{
 "cells": [
  {
   "cell_type": "markdown",
   "metadata": {},
   "source": [
    "## Maschinelles Lernen - Einführung\n",
    "Dieses Dokument enthält eine Übersicht über die Bausteine,\n",
    "die ich für die Einführung in das Maschinelle Lernen (ML) erstellen möchte.\n",
    "Es soll Bachelor-Studierende im 5. (?) Semester in das Themenfeld des Maschinellen Lernens einführen.\n",
    "\n",
    "TODO: Genauere Einordnung in den Studienablauf zwischen Bachelorstudium und Masterstudium\n",
    "\n",
    "Im Weiteren sind einzelnen thematische Bausteine aufgeführt und beschrieben.\n",
    "Diese werden dann als Jupyter Notebooks realisiert.\n",
    "Es wird beschrieben, welche Inhalte in dem jeweiligen Baustein vermittelt werden sollen.\n",
    "In den Beschreibungen sind auch offene Punkte notiert, die noch in die Bausteine eingebaut werden.\n",
    "\n",
    "Der Aufbau und die Inhalte orientieren sich an dem Buch von Viviana Acquaviva [Acq2023].\n",
    "\n",
    "**Generelle Offene Punkte**\n",
    "- Welche Übungsaufgaben können bei den einzelnen Bausteinen bearbeitet werden.\n",
    "- Untersuchung der Bearbeitungszeiten "
   ]
  },
  {
   "cell_type": "markdown",
   "metadata": {},
   "source": [
    "---\n",
    "### Baustein 01a - Was ist Maschinelles Lernen \n",
    "Es wird zuerst kurz definiert, was Maschinelles Lernen (ML) ist.\n",
    "Dann wird aufgezeigt, wo Grenzen der klasischen Berechnung sind,\n",
    "an welchen Stellen also ML sinnvoll eingesetzt werden kann.\n",
    "Es werden die Aufgaben beschrieben, die mit ML erledigt werden können\n",
    "(recognize, predict, group together, simplify -  \n",
    "classification, regression, clustering, dimensionality reduction)\n",
    "Es werden die grundlegenden Verfahren \n",
    "(supervized learning, unsupervized learning, reinforcement learning)\n",
    "dargestellt. Der Schwerpunkt bei dieser Einführung ist beim Überwachten Lernen. \n",
    "\n",
    "**Quellen** [Acq2023], Abschnitte 1.1, 1.2, (1.4), 1.5, [Ngu2021]    \n",
    "\n",
    "**Offene Punkte**  \n",
    "- Aufzeigen von Grenzen der klassischen Berechnung. \n",
    "Da müssen noch aussagefähige Beispiele gefunden werden"
   ]
  },
  {
   "cell_type": "markdown",
   "metadata": {},
   "source": [
    "---\n",
    "### Baustein 01b - Die Sprache des ML\n",
    "Es werden wichtige Begriffe des ML definiert und erläutert:\n",
    "- Instanzen, Eigenschaften, Ergebnis und Modell (instances, features, labels, machine learning model)\n",
    "- Lerndaten, Trainingsdaten, Testdaten (learning set, training set, test set, representative laerning set\n",
    "- Fehlerrate, Erfolgsrate (error (rate of failure), score (rate of success),\n",
    "training error / score, test error / score, generalization error / score,\n",
    "\n",
    "Es wird auch der generelle / grundlegende Ablauf beschrieben:\n",
    "Daten aufbereiten; Daten aufteilen in Trainings- und Testdaten;\n",
    "ML-Methode und seine Parameter auswählen; Fit durchführen (ML-Methode auf die Trainingsdaten anwenden);\n",
    "Vorhersagen (das trainierte Modell auf die Testdaten anwenden);\n",
    "Berechnung der Performace durch Anwendung einer geeigneten Bewertungsmethode;\n",
    "Ergebnis betrachten, Schwachstellen erkennen, Verbesserungen durchführen\n",
    "\n",
    "**Quellen** [Acq2023], Abschnitte 1.3, 1.4 und 2.1\n",
    "\n",
    "**Offene Punkte**"
   ]
  },
  {
   "cell_type": "markdown",
   "metadata": {},
   "source": [
    "---\n",
    "### Baustein 01c - Überwachtes Lernen - Lineare Regression\n",
    "An dem bekannten Beispiel einer linearen Regression soll der Ablauf durchgespielt werden.\n",
    "Da die lineare Regression bekannt ist, kann auch stets mit dem \"richtigen\" Ergebnis verglichen werden.\n",
    "Daten werden generiert und in Trainings- und Testdtaen aufgeteilt.\n",
    "Der Algorithmus (Lineare Regression) wird sowohl per Hand bearbeitet, als auch mit Hilfe von sklearn. \n",
    "Dann wird das Training durchgeführt, Werte vorhergesagt und bewertet (mse (Mean Square Error))\n",
    "Die Aufteilung zwischen Trainingsmenge und Testmenge wird verändert und die Ergebnisse vergleichen\n",
    "\n",
    "Zum Schluss wird eine Gegenüberstellung erläutert zwischen ML und Modell fitten. Was ist wann sinnvoll\n",
    "\n",
    "**Quellen** [Acq2023], Abschnitt 1.6\n",
    "\n",
    "**Offene Punkte**"
   ]
  },
  {
   "cell_type": "markdown",
   "metadata": {},
   "source": [
    "---\n",
    "### Baustein 02a - Grundlegender Ablauf\n",
    "Ist in Beustein 01b integriert ([Acq2023], Abschnitt 2.1)"
   ]
  },
  {
   "cell_type": "markdown",
   "metadata": {},
   "source": [
    "---\n",
    "### Baustein 02b - Binäre Klassifikation - Entscheidungsbaum\n",
    "Hier wird anhand eines von Viviana Acquaviva ausgewählten Beispiels das Modell Entscheidungsbaum (Decision Tree, DT)\n",
    "durchgespielt. Es wird erläutert, wie die Trennung mit Hilfe der Gini Umreinheit (*Gini impurity*) durchgeführt wird.\n",
    "Die konkrete Durchführung wird dann mit sklearn umgesetzt.\n",
    "Es werden verschiedene ENtscheidungsbäume aufgebaut, um zu zeigen (a) wie die Trainingsmenge das Ergebnis beeinflusst\n",
    "und (b) welche Auswirkungen eine Veränderung des Parameters Tiefe hat.\n",
    "Die trainierten Modelle werden am Ende des Bausteins gespeichert, um sie später (Baustein 03b) zu verwenden.\n",
    "\n",
    "**Quellen** [Acq2023], Abschnitt 2.2\n",
    "\n",
    "**Offene Punkte**\n",
    "- grafische Darstellung der Splits, siehe dazu VanderPlas ([Van2024])\n",
    "- Ergebnisse des Ttrainierten Models speichern"
   ]
  },
  {
   "cell_type": "markdown",
   "metadata": {},
   "source": [
    "---\n",
    "### Baustein 02c - Binäre Klassifikation - k-Nächste Nachbarn\n",
    "Hier wird anhand der selben Daten wie bei Baustein 2b das Modell k-Nächste Nachbarn (k-Nearest Neighbours, kNN) durchgespielt\n",
    "und erläutert. Dabei wird auf die Problematik der Normalisierung / Zenralisierung der Daten eingegangen und die Daten\n",
    "transformiert. Hierbei wird zu Mittelwert = 0 und Standardabweichung = 1 normiert. Das ist wegen Ausreißern nicht robust.\n",
    "Es wird ein robusten Verfahren (Median = 0, Interquartilsabstand = 1) verwendet.\n",
    "\n",
    "**Quellen** [Acq2023], Abschnitt 2.3\n",
    "\n",
    "**Offene Punkte**"
   ]
  },
  {
   "cell_type": "markdown",
   "metadata": {},
   "source": [
    "---\n",
    "### Baustein 03a - Daten aufbereiten\n",
    "Es werden die aktuelen Forschungsdaten für habitable Planeten herangezogen und mit Hilfe von `pandas` bearbeitet.\n",
    "Die Bearbeitung mit `pandas`soll nur kurz angedeutet werden, ohne tiefer darauf einzugehen.\n",
    "Es sollen einige kritische Punkte beleuchtet / erwänt werden (ersetzen fehlender Daten *imputing*;\n",
    "Untersuchung von Ausreißers mit Hilfe von Histogrammen).\n",
    "Ziel ist es jedoch, einen Auszug der Daten zu erstellen, die in einer CSV-Datei gespeichert werden,\n",
    "die mit Hilfe von `numpy` in späteren Bausteinen direkt eingelesen werden kann.\n",
    "\n",
    "**Quellen** [Acq2023], Abschnitt 3.1\n",
    "\n",
    "**Offene Punkte**"
   ]
  },
  {
   "cell_type": "markdown",
   "metadata": {},
   "source": [
    "---\n",
    "### Baustein 03b Binäre Klassifikation - Bewertungen\n",
    "Anhand der Komplettmenge der habitablen Planeten und den verschiedenen gelernten Modelle Decision Tree\n",
    "(aus Baustein 02b) sollen Bewertungen verglichen werden. Dazu werden wichtige Begriffe für die Bewertung\n",
    "bei einer binären Klassifiaktion definiert und erläutert:\n",
    "\n",
    "-\ttrue positive (TP), true negative (TN), false positive (FP), false negative (FN)\n",
    "-\taccuracy, precision, recall, confusion matrix, F1-score\n",
    "-\tReceiver Operating Curve (ROC), Area Under the Curve (AUC))\n",
    "\n",
    "Die Bewertungen werden auf die Modelle DT angewendet. Als Übungsaufgabe kann dies auf kNN angewendet werden, \n",
    "wobei die Anzahl der Nachbarn variieren kann (k = 3, 5 oder 7). \n",
    "Dabei wird auch der Zeitbedarf betrachten.\n",
    "\n",
    "**Quellen** [Acq2023], Abschnitt 3.2, 3.3\n",
    "\n",
    "**Offene Punkte**\n",
    "- JN erstellen / überarbeiten (in der Umsetzungs- / Implementierungsphase)"
   ]
  },
  {
   "cell_type": "markdown",
   "metadata": {},
   "source": [
    "---\n",
    "### Baustein 03c Cross Validation\n",
    "Cross Validation beschreiben und anwenden.\n",
    "Die Frage ist, wo es hier sinnvoll eingesetzt werden kann?\n",
    "\n",
    "**Quelle** [Acq2023], Abschnitt 3.4\n",
    "\n",
    "**Offene Punkte**\n",
    "- JN konzipieren und erstellen"
   ]
  },
  {
   "cell_type": "markdown",
   "metadata": {},
   "source": [
    "---\n",
    "### Baustein 03d Binäre Klassifiaktion - Analyse und Verbesserungen\n",
    "Wie können die Ergebnisse ausgewertet werden und welche Möglichkeiten gibt es,\n",
    "das Ergebnis zu verbessern\n",
    "-\tOverfiting und Underfitting\n",
    "-\thigh bias, high variance\n",
    "-\tlearning curve\n",
    "-\thyperparameter Tuning\n",
    "-\tfeature Engineering\n",
    "\n",
    "**Quellen** [Acq2023], Abschnitt 3.5, 3.6\n",
    "\n",
    "**Offene Punkte**\n",
    "- JN konzipieren und erstellen"
   ]
  },
  {
   "cell_type": "markdown",
   "metadata": {},
   "source": [
    "---\n",
    "### Baustein 03e Multiple Klassifiaktion - Ausblick\n",
    "Ausblick auf Veränderungen in der Bewertung, wenn eine multiple Klassifiaktion durchgeführt wird\n",
    "\n",
    "**Quellen** [Acq2023], Abschnitt 3.7\n",
    "\n",
    "**Offene Punkte**\n",
    "- JN konzipieren und erstellen"
   ]
  },
  {
   "cell_type": "markdown",
   "metadata": {},
   "source": [
    "---\n",
    "### Bausteine 04 - Überwachtes Lernen: Optimierungen  \n",
    "Detaillierung einiger Punkte, die in Baustein 03d angesprochen sind.\n",
    "Ebenso der Algorithmus Support Vector Machines   vorstellen\n",
    "\n",
    "**Quelle** [Acq2023], Kapitel 4\n",
    "\n",
    "**Offene Punkte**\n",
    "- Kapitel bearbeiten, detaillieren und einzelne Bausteine definieren, konzipieren und erstellen"
   ]
  },
  {
   "cell_type": "markdown",
   "metadata": {},
   "source": [
    "---\n",
    "### Bausteine 05 - Regression\n",
    "Wichtige Begriffe und Vorgehensweisen für eine Regression beschreiben und durchführen.\n",
    "- Lineare Modelle und Loss Function  \n",
    "- Gradient Descent  \n",
    "- Regularization  \n",
    "- Generalized Linear Models  \n",
    "\n",
    "**Quellen** [Acq2023], Kapitel 5\n",
    "\n",
    "**Offene Punkte**\n",
    "- Kapitel bearbeiten, detaillieren und einzelnen Bausteine definieren, konzipieren und erstellen  "
   ]
  },
  {
   "cell_type": "markdown",
   "metadata": {},
   "source": [
    "---\n",
    "### Bausteine 06 - Ensemble Methods  \n",
    "Muss ich mir noch genauer ansehen, was hiervon aufgenommen werden soll   \n",
    "\n",
    "**Quellen** [Acq2023], Kapitel 6\n",
    "\n",
    "**Offene Punkte**\n",
    "- Kapitel bearbeiten, detaillieren und einzelnen Bausteine definieren, konzipieren und erstellen"
   ]
  },
  {
   "cell_type": "markdown",
   "metadata": {},
   "source": [
    "---\n",
    "### Bausteine 08 - Einführung in Neuronale Netze\n",
    "Muss ich mir noch genauer ansehen, was hiervon aufgenommen werden soll   \n",
    "\n",
    "**Quellen** [Acq2023], Kapitel 8\n",
    "\n",
    "**Offene Punkte**\n",
    "- Kapitel bearbeiten, detaillieren und einzelnen Bausteine definieren, konzipieren und erstellen"
   ]
  },
  {
   "cell_type": "markdown",
   "metadata": {},
   "source": [
    "---\n",
    "### Literatur\n",
    "- [Acq2023] Viviana Acquaviva; Machine Learning for Physics and Astronomy; Princeton University Press; 2023\n",
    "- [Ngu2021] Chi Nhan Nguyen, Oliver Zeigermann; Machine Learning kurz & gut; O'Reilly; 2021\n",
    "- [Van2024] Jake VanderPlas; Handbuch Data Science mit Python; O'Reilly; 2024; (Übersetzung der 2. Auflage von *Python Data Science Handbook*)"
   ]
  },
  {
   "cell_type": "markdown",
   "metadata": {},
   "source": []
  }
 ],
 "metadata": {
  "kernelspec": {
   "display_name": "Python 3",
   "language": "python",
   "name": "python3"
  },
  "language_info": {
   "name": "python",
   "version": "3.11.1"
  }
 },
 "nbformat": 4,
 "nbformat_minor": 2
}
