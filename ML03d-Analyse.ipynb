{
 "cells": [
  {
   "cell_type": "markdown",
   "metadata": {},
   "source": [
    "# Binäre Klassifikation - Analyse\n",
    "Die bisherigen Ergebnisse sind nicht so gut.\n",
    "Was lief nicht so gut? Was kann verbessert werden?\n",
    "Dazu werden die Daten genauer angesehen:\n",
    "- Gibt es starke Ausreißer, welche die Ergebnisse beeinflusst haben?\n",
    "- Gibt es fehlende Daten in den Datensätzen?\n",
    "- Haben die Werte der Daten teilweise AUslenkungen von mehrern Größenordnungen?\n",
    "- Sind die Daten extrem nicht-ausgeglichen?\n",
    "\n",
    "Der letzte Punkt ist bei den Daten der habitablen Planten vorhanden.\n",
    "Nur etwa 1% der Datensätze wird als habitabel angesehen.\n",
    "\n",
    "Wie reagieren die Algorithmen auf diese Extreme. \n",
    "Auch wenn noch nicht so viele verschiedene Algorithmen bekannt sind, \n",
    "ist es wichtig sich mit diesen Fargestellungen auseinanderzusetzen.\n",
    "EInige der Punkte werden wieder anhand der habitablen Planeten betrachtet."
   ]
  },
  {
   "cell_type": "markdown",
   "metadata": {},
   "source": [
    "### Import wichtiger Python-Module"
   ]
  },
  {
   "cell_type": "code",
   "execution_count": 1,
   "metadata": {},
   "outputs": [],
   "source": [
    "# --- imports\n",
    "import numpy as np \n",
    "import matplotlib.pyplot as plt \n",
    "\n",
    "from sklearn import metrics \n",
    "\n",
    "from tools import show_confusion_matrix_extended"
   ]
  },
  {
   "cell_type": "markdown",
   "metadata": {},
   "source": [
    "## 1 Daten für habitable Planeten\n",
    "Die Daten für die habitablen Planeten werden wieder eingelesen, damit sie für die Bearbeitung\n",
    "zur Verfügung stehen. \n",
    "Die aufbereiteten Daten stehen als `numpy`-Array zur Verfügung.\n",
    "\n",
    "In der CSV-Datei sind fünf Spalten enthalten:\n",
    "- die erste Spalte ist nur eine Durchnumerierung der Daten,\n",
    "- `S_MASS` (Masse des Elternsterns in Sonnenmassen), \n",
    "- `P_PERIOD` (Umlaufzeit des Planeten in Tagen),\n",
    "- `P_DISTANCE` (Entfernung des Planeten zum Elternstern in Astronomischen Einheiten (AU)) und\n",
    "- `P_HABITABLE` (Kennzeichen, ob habitabel (1 habitabel, 0 nicht habitabel)).\n",
    "\n",
    "Zuerst werden die Daten eingelesen"
   ]
  },
  {
   "cell_type": "code",
   "execution_count": 2,
   "metadata": {},
   "outputs": [
    {
     "name": "stdout",
     "output_type": "stream",
     "text": [
      "number of               exoplanets in the list :  5350\n",
      "number of not habitable exoplanets in the list :  5280\n",
      "number of     habitable exoplanets in the list :    70\n"
     ]
    }
   ],
   "source": [
    "# --- read the data - complete\n",
    "filename = 'HabitablePlanets_work.csv'\n",
    "hwc = np.genfromtxt (filename, delimiter=',', \\\n",
    "                     usecols = (1, 2, 3, 4), skip_header = 1)\n",
    "print (f\"number of               exoplanets in the list : {hwc.shape [0]:5d}\")\n",
    "\n",
    "# -- split in features and label\n",
    "hwc_features = hwc [:,0:3]\n",
    "hwc_label = hwc[:,3]\n",
    "unique, counts = np.unique (hwc_label, return_counts = True)\n",
    "print (f\"number of not habitable exoplanets in the list : {counts [0]:5d}\")\n",
    "print (f\"number of     habitable exoplanets in the list : {counts [1]:5d}\")"
   ]
  },
  {
   "cell_type": "markdown",
   "metadata": {},
   "source": [
    "Anschließend werden die Daten in Trainingsmenge und Testmenge aufgeteilt."
   ]
  },
  {
   "cell_type": "code",
   "execution_count": 3,
   "metadata": {},
   "outputs": [
    {
     "name": "stdout",
     "output_type": "stream",
     "text": [
      "Elements in the training set   :  4012\n",
      "  thereof habitable exoplanets :    49\n",
      "Elements in the test set       :  1338\n",
      "  thereof habitable exoplanets :    21\n"
     ]
    }
   ],
   "source": [
    "from sklearn.model_selection import train_test_split\n",
    "\n",
    "# --- split in training set / test set\n",
    "X_train, X_test, y_train, y_test \\\n",
    "    = train_test_split(hwc_features, hwc_label, random_state=2024)\n",
    "print (f\"Elements in the training set   : {X_train.shape [0]:5d}\")\n",
    "unique, counts = np.unique (y_train, return_counts = True)\n",
    "print (f\"  thereof habitable exoplanets : {counts [1]:5d}\")\n",
    "print (f\"Elements in the test set       : {X_test.shape [0]:5d}\")\n",
    "unique, counts = np.unique (y_test, return_counts = True)\n",
    "print (f\"  thereof habitable exoplanets : {counts [1]:5d}\")"
   ]
  },
  {
   "cell_type": "markdown",
   "metadata": {},
   "source": [
    "### 2 Überttrainiert und untertrainiert\n",
    "Bei den habitablen Planeten wurde in ML03a-Bewertung das Modell `DecisionTree` ohne Begrenzung trainiert.\n",
    "Das Modell hat 14 Ebenen.\n",
    "Das bedeutet, dass dieses Modell auf den Trainingsdaten eine 100%tige Genauigkeit hat. \n",
    "Bei den Testdaten ist die Genauigkeit jedoch deutlich geringer. Das bedeutet, dass das Model\n",
    "**übertrainiert** (*overfitted*) ist. "
   ]
  },
  {
   "cell_type": "code",
   "execution_count": 4,
   "metadata": {},
   "outputs": [
    {
     "name": "stdout",
     "output_type": "stream",
     "text": [
      "DecisionTreeClassifier(random_state=2024)\n",
      "  accuracy (training set) : 1.000\n",
      "  accuracy (test set)     : 0.987\n",
      "\n",
      "  Confusion Matrix       |     predicted label     |\n",
      "                         | non hab    | hab        |\n",
      "-------------------------+------------+------------+\n",
      "              non hab    | TN=   1312 | FP=      5 |\n",
      "  true label  -----------+------------+------------+\n",
      "              hab        | FN=     12 | TP=      9 |\n",
      "-------------------------+------------+------------+\n",
      "\n",
      "    accuracy    = 0.9873\n",
      "    precision   = 0.6429\n",
      "    recall      = 0.4286\n",
      "    FP-rate     = 0.0038\n",
      "    TP-rate     = 0.4286\n",
      "    F1-score    = 0.5143\n"
     ]
    }
   ],
   "source": [
    "from sklearn.tree import DecisionTreeClassifier\n",
    "\n",
    "# --- define model\n",
    "DT_model = DecisionTreeClassifier (random_state=2024)\n",
    "print (DT_model)\n",
    "\n",
    "# --- fit (train)\n",
    "DT_model.fit (X_train, y_train)\n",
    "\n",
    "# --- predict\n",
    "y_pred_train = DT_model.predict (X_train)\n",
    "print (f\"  accuracy (training set) : \" \\\n",
    "       + f\"{metrics.accuracy_score (y_train, y_pred_train):5.3f}\")\n",
    "y_pred = DT_model.predict (X_test)\n",
    "print (f\"  accuracy (test set)     : \" \\\n",
    "       + f\"{metrics.accuracy_score (y_test, y_pred):5.3f}\")\n",
    "\n",
    "print ()\n",
    "show_confusion_matrix_extended (y_test, y_pred, labels = [\"non hab\", \"hab\"])"
   ]
  },
  {
   "cell_type": "markdown",
   "metadata": {},
   "source": [
    "Die Genauigkeit bei der Testmenge ist hoch. \n",
    "Das liegt jedoch daran, dass die Menge sehr unausgeglichen ist.\n",
    "Es gibt nur wenige habitablen Planeten.\n",
    "Die Präzision und die Trefferquote sind jedoch gering.\n",
    "Das *faule Modell*, welches alle Planten als nicht habitabel kennzeichnet hat eine ähnlich\n",
    "hohe Genauigkeit. Diese Modell ist jedoch **untertrainiert** (*underfitted*).\n",
    "Genau genommen ist es überhaupt nicht trainiert."
   ]
  },
  {
   "cell_type": "markdown",
   "metadata": {},
   "source": [
    "Wie verändern sich die Kennzahlen, wenn die Tiefe beim Modell `DecisionTree` verändert wird.\n",
    "\n",
    "Die Tiefen 1 und 2 werden nicht berachtet, denn im Entscheidungsbaum sind für diese beiden Ebenen \n",
    "noch alle Planeten nicht habitabel. Daher ist Präzision nicht definiert (Division durch 0). "
   ]
  },
  {
   "cell_type": "code",
   "execution_count": 5,
   "metadata": {},
   "outputs": [
    {
     "name": "stdout",
     "output_type": "stream",
     "text": [
      " depth  acc-tra  acc-tes  pre-tes  rec-tes\n",
      " -----  -------  -------  -------  -------\n",
      "  14     1.0000   0.9873   0.6429   0.4286 \n",
      "  13     0.9990   0.9851   0.5556   0.2381 \n",
      "  12     0.9985   0.9843   0.5000   0.2381 \n",
      "  11     0.9983   0.9843   0.5000   0.2381 \n",
      "  10     0.9975   0.9865   0.5882   0.4762 \n",
      "   9     0.9968   0.9851   0.5556   0.2381 \n",
      "   8     0.9958   0.9858   0.6250   0.2381 \n",
      "   7     0.9953   0.9865   0.7143   0.2381 \n",
      "   6     0.9943   0.9865   0.7143   0.2381 \n",
      "   5     0.9928   0.9873   0.8333   0.2381 \n",
      "   4     0.9908   0.9858   0.7500   0.1429 \n",
      "   3     0.9888   0.9865   0.8000   0.1905 \n",
      " -----------------------------------------\n"
     ]
    },
    {
     "data": {
      "image/png": "[encoded data removed]",
      "text/plain": [
       "<Figure size 640x480 with 1 Axes>"
      ]
     },
     "metadata": {},
     "output_type": "display_data"
    }
   ],
   "source": [
    "def do_decision_tree (max_depth, X_train, y_train, X_test, y_test, print_results = False):\n",
    "    DT_model = DecisionTreeClassifier (random_state=2024, max_depth = max_depth)\n",
    "    DT_model.fit (X_train, y_train)\n",
    "    y_pred_train = DT_model.predict (X_train)\n",
    "    accuracy_train = metrics.accuracy_score (y_train, y_pred_train)\n",
    "    y_pred = DT_model.predict (X_test)\n",
    "    accuracy_test = metrics.accuracy_score (y_test, y_pred)\n",
    "    precision_test = metrics.precision_score (y_test, y_pred)\n",
    "    recall_test = metrics.recall_score (y_test, y_pred)\n",
    "\n",
    "    if print_results:\n",
    "        print (f\"  accuracy (training set) : \" \\\n",
    "           + f\"{metrics.accuracy_score (y_train, y_pred_train):5.3f}\")\n",
    "        print ()\n",
    "        show_confusion_matrix_extended (y_test, y_pred, labels = [\"non hab\", \"hab\"])\n",
    "\n",
    "    return max_depth, accuracy_train, accuracy_test, precision_test, recall_test\n",
    "\n",
    "print (\" depth  acc-tra  acc-tes  pre-tes  rec-tes\")\n",
    "print (\" -----  -------  -------  -------  -------\")\n",
    "list_max_depth = range (14, 2, -1) \n",
    "list_of_results = []\n",
    "for max_depth in list_max_depth:\n",
    "    results = do_decision_tree (max_depth, X_train, y_train, X_test, y_test)\n",
    "    list_of_results.append (results)\n",
    "    print (f\"  {max_depth:2d}   \", end = \"\")\n",
    "    for i in range (len (results) - 1):\n",
    "        print (f\"  {results [i+1]:6.4f} \", end = \"\")\n",
    "    print ()\n",
    "print (\" -----------------------------------------\")\n",
    "\n",
    "list_of_results = np.array (list_of_results)\n",
    "\n",
    "plt.plot (list_of_results [:,0], list_of_results [:,1], label = \"accuracy (train)\")\n",
    "plt.plot (list_of_results [:,0], list_of_results [:,2], label = \"accuracy (test)\")\n",
    "plt.plot (list_of_results [:,0], list_of_results [:,3], 'x-', label = \"precision\")\n",
    "plt.plot (list_of_results [:,0], list_of_results [:,4], 'x-', label = \"recall\")\n",
    "plt.xlabel (\"max depth\")\n",
    "plt.ylabel (\"rate\")\n",
    "plt.ylim ([0.0, 1.0])\n",
    "plt.xlim ([3.0,14.0])\n",
    "plt.legend ()\n",
    "plt.grid ()\n",
    "plt.show ()"
   ]
  },
  {
   "cell_type": "markdown",
   "metadata": {},
   "source": [
    "#### Welche Probleme können auftreten?\n",
    "\n",
    "**Große Verzerrung**: \n",
    "Eine große Verzerrung, also ein große Diskrepanz zwischen vorhergesagten und tatsächlichem Ergebnis,\n",
    " deutet darauf hin, dass das Modell zu einfach ist (untertrainiert).\n",
    " Dies kann beispielsweise geschehen, wenn\n",
    " - ein lineares Modell für nicht-lineare Daten angewendet wird,\n",
    " - zu wenige Daten einbezogen werden oder\n",
    " - wenn die berücksichtigten Daten nicht relevant sind.\n",
    "\n",
    " **Große Varianz**: \n",
    " Eine große Varianz, also eine große Streuung deutet darauf hin, dass nur die Trainingsmenge\n",
    " gut abgebildet wird, die Testmenge jedoch nicht (übertrainiert). Die Generalisierung der\n",
    " Modellierung klappt nicht gut.\n",
    " DIes kann beispielsweise auftreten, wenn\n",
    " - einfache Dinge zu komplex modelliert werden, \n",
    "   wobei Ecken und Kanten der Daten und auch Ausreißer mit modelliert werden \n",
    "   (10 Datenpunkte, die einen linearen Zusammenhang zeigen, mit Hilfe eines Polynoms 9.ten Grades exakt interpolieren) oder\n",
    " - zu viele nicht relevante Daten mit berücksichtigt werden (Untergrund, *noise*)\n",
    "\n",
    "Egal ob über- oder untertrainiert, die Ergebnisse auf der Testmenge nicht schlecht.\n",
    "Wann ist ein geeignetes Maß an Training erreicht?\n",
    "Dazu können die Differenzen zwischen den Kennzahlen der Trainingsmenge und der Testmenge\n",
    "betrachtet werden.\n",
    "- Ist die Verzerrung bei Trainings- und Testmenge groß, dann ist das Modell schlecht trainiert,\n",
    "  es ist untertrainiert. \n",
    "- Ist der Unterschied zwischen den Kennzahlen der Trainingsmenge und der Testmenge groß,\n",
    "  dann modelliert das Modell die Trainingsdaten gut, jedoch nicht die Testdaten,\n",
    "  das  Modell ist übertrainiert. \n",
    "\n",
    "Mit der Analyse bezüglich große Verzerrung, große Varianz ist noch keine Verbesserung verbunden.\n",
    "Es ist nur eine Analyse der Probleme.\n"
   ]
  },
  {
   "cell_type": "markdown",
   "metadata": {},
   "source": [
    "### 3 Untersuchung der Algorithmen\n",
    "Die Kennzahlen für die Betrachtung der gesamten Menge der habitablen Planeten sind nicht so gut.\n",
    "Welche Ursachen kann dies haben?\n",
    "Dazu wird eine Untersuchung mit Hilfe der Kreuzvalidierung durchgeführt.\n",
    "Es werden dabei nicht nur die Kennzahl Trefferquote für die Testmenge,\n",
    "sondern auch für die Trainingsmenge ausgegeben. \n",
    "Es wird mit einer Zerlegung in $k = 10$ Teilen gearbeitet."
   ]
  },
  {
   "cell_type": "code",
   "execution_count": 6,
   "metadata": {},
   "outputs": [],
   "source": [
    "# --- imports\n",
    "from sklearn.model_selection import KFold, StratifiedKFold\n",
    "from sklearn.model_selection import cross_validate, cross_val_predict\n",
    "\n",
    "# --- set parameters for all variants!\n",
    "k_splits = 10\n",
    "random_state = 2024\n",
    "\n",
    "# --- routine to show distribution of data\n",
    "def print_distribution (train, test, label):\n",
    "    n_train_hab = np.sum (label [train])\n",
    "    n_train_non = train.size - n_train_hab\n",
    "    n_test_hab = np.sum (label [test])\n",
    "    n_test_non = test.size - n_test_hab\n",
    "    print (f\" train: [{n_train_non:5.0f} - {n_train_hab:3.0f}]\" + \\\n",
    "           f\"   test: [{n_test_non:5.0f} - {n_test_hab:3.0f}]\")"
   ]
  },
  {
   "cell_type": "code",
   "execution_count": 7,
   "metadata": {},
   "outputs": [
    {
     "name": "stdout",
     "output_type": "stream",
     "text": [
      " train: [ 4756 -  59]   test: [  524 -  11]\n",
      " train: [ 4753 -  62]   test: [  527 -   8]\n",
      " train: [ 4748 -  67]   test: [  532 -   3]\n",
      " train: [ 4751 -  64]   test: [  529 -   6]\n",
      " train: [ 4754 -  61]   test: [  526 -   9]\n",
      " train: [ 4750 -  65]   test: [  530 -   5]\n",
      " train: [ 4749 -  66]   test: [  531 -   4]\n",
      " train: [ 4750 -  65]   test: [  530 -   5]\n",
      " train: [ 4754 -  61]   test: [  526 -   9]\n",
      " train: [ 4755 -  60]   test: [  525 -  10]\n",
      "\n",
      "values for recall \n",
      "  test set     :  0.4545  0.5000  0.3333  0.8333  0.4444  0.8000  0.7500  0.4000  0.3333  0.4000\n",
      "  training set :  1.0000  1.0000  1.0000  1.0000  1.0000  1.0000  1.0000  1.0000  1.0000  1.0000\n",
      "\n",
      "recall training set : 1.000 +/- 0.000\n",
      "recall test set     : 0.525 +/- 0.184 \n",
      "\n",
      "  Confusion Matrix       |     predicted label     |\n",
      "                         | non hab    | hab        |\n",
      "-------------------------+------------+------------+\n",
      "              non hab    | TN=   5245 | FP=     35 |\n",
      "  true label  -----------+------------+------------+\n",
      "              hab        | FN=     35 | TP=     35 |\n",
      "-------------------------+------------+------------+\n",
      "\n",
      "    accuracy    = 0.9869\n",
      "    precision   = 0.5000\n",
      "    recall      = 0.5000\n",
      "    FP-rate     = 0.0066\n",
      "    TP-rate     = 0.5000\n",
      "    F1-score    = 0.5000\n"
     ]
    }
   ],
   "source": [
    "cv = KFold (shuffle = True, n_splits = k_splits, \\\n",
    "                random_state = random_state)\n",
    "\n",
    "# -- show the distribution\n",
    "for train, test in cv.split (hwc_features, hwc_label): \n",
    "    print_distribution (train, test, hwc_label)\n",
    "\n",
    "# --- cross validation\n",
    "scores = cross_validate (DT_model, hwc_features, hwc_label, cv = cv, \\\n",
    "                             scoring = 'recall', return_train_score = True)\n",
    "\n",
    "print (\"\\nvalues for recall \")\n",
    "print (\"  test set     :\", end = \"\")\n",
    "for score in scores ['test_score']:\n",
    "    print (f\"  {score:6.4f}\", end = \"\")\n",
    "print (\"\")\n",
    "print (\"  training set :\", end = \"\")\n",
    "for score in scores ['train_score']:\n",
    "    print (f\"  {score:6.4f}\", end = \"\")\n",
    "print (\"\\n\")\n",
    "\n",
    "print (f\"recall training set : {scores ['train_score'].mean ():5.3f} \" \\\n",
    "       + f\"+/- {scores ['train_score'].std () :5.3f}\")\n",
    "\n",
    "print (f\"recall test set     : {scores ['test_score'].mean ():5.3f} \" \\\n",
    "       + f\"+/- {scores ['test_score'].std () :5.3f} \\n\")\n",
    "\n",
    "# --- predict\n",
    "y_pred = cross_val_predict (DT_model, hwc_features, hwc_label, cv = cv)\n",
    "\n",
    "# --- display confusion matrix\n",
    "show_confusion_matrix_extended (hwc_label, y_pred, labels = [\"non hab\", \"hab\"])"
   ]
  },
  {
   "cell_type": "markdown",
   "metadata": {},
   "source": [
    "Da für den Entscheidungsbaum keine Restriktion in der Tiefe gegeben ist, \n",
    "ist das Ergebnis für die Trefferquote in der Trainingsmenge stets 100%.\n",
    "Die Trefferquto in der Testmenge ist jedoch nur bei etwa 50%. \n",
    "Daher gibt es eine große Differenz zwischen den Kennzahlen zwischen Trainingsmenge und Testmenge.\n",
    "Auf Grund der Standardabweichung ist der Unterschied signifikant.\n",
    "Daher ist die Varianz hoch."
   ]
  },
  {
   "cell_type": "markdown",
   "metadata": {},
   "source": [
    "### 4 Lernkurve\n",
    "Wie entwickeln sich die Kennzahlen, in Abhängigkeit der Größe der Trainingsmenge?\n",
    "Dies ist eine wichtige Fragestellung.\n",
    "Dazu wird eine **Lernkurve** (*learning curve*) erstellt.\n",
    "Diese Lernkurve stellt grafisch dar, wie sich eine Kennzahl verändert,\n",
    "wenn sich die Größe der Trainingsmenge ändern.\n",
    "\n",
    "Mit `SHuffleSplit`wird die Aufteilung in Trainings- und Testmenge anhand von zufälligen Permutationen durchgeführt."
   ]
  },
  {
   "cell_type": "code",
   "execution_count": 8,
   "metadata": {},
   "outputs": [
    {
     "data": {
      "image/png": "[encoded data removed]",
      "text/plain": [
       "<Figure size 1000x600 with 1 Axes>"
      ]
     },
     "metadata": {},
     "output_type": "display_data"
    }
   ],
   "source": [
    "from sklearn.model_selection import LearningCurveDisplay, ShuffleSplit\n",
    "\n",
    "fig, ax = plt.subplots(nrows=1, ncols=1, figsize=(10, 6), sharey=True)\n",
    "common_params = {\n",
    "    \"X\": hwc_features,\n",
    "    \"y\": hwc_label,\n",
    "    \"train_sizes\": np.linspace (0.1, 1.0, 10),\n",
    "    \"cv\": ShuffleSplit (n_splits=10, test_size=0.2, random_state=2024),\n",
    "    \"scoring\": \"recall\",\n",
    "    \"score_type\": \"both\",\n",
    "    \"n_jobs\": 4,\n",
    "    \"line_kw\": {\"marker\": \"o\"},\n",
    "    \"std_display_style\": \"fill_between\",\n",
    "    \"score_name\": \"Recall\",\n",
    "}\n",
    "\n",
    "LearningCurveDisplay.from_estimator (DT_model, **common_params, ax=ax)\n",
    "handles, label = ax.get_legend_handles_labels()\n",
    "ax.legend (handles[:2], [\"Training Score\", \"Test Score\"])\n",
    "ax.set_title (f\"Learning Curve for DT (default parameters)\")\n",
    "plt.show ()"
   ]
  },
  {
   "cell_type": "markdown",
   "metadata": {},
   "source": [
    "In dem obigen Plot werden sind die Kennzahlen für die Testmenge und auch für die Trainingsmenge dargestellt.\n",
    "Darher kann in dieser  Grafik sowohl die Verzerrung der Daten, als auch die Varianz betrachtet werden kann.\n",
    "Daher kann auch abgeschätzt werden, ob mehr Daten hilfreich sind."
   ]
  },
  {
   "cell_type": "markdown",
   "metadata": {},
   "source": [
    "### 5 Verbesserungen\n",
    "In den obigen Abschnitten sind einige Problempunkte aufgezeigt worden.\n",
    "Es ergibt sich die Fragestellung, welche Möglichkeiten es gibt, die Ergebnisse zu verbessern.\n",
    "DIesr Prozessschritt ist ein wichtiger Teil im Maschinellen Lernen.\n",
    "Daher ist es ein iteratives Vorgehen, bis das Ergebnis zufriedenstellend ist.\n",
    "Welche Möglichkeiten gint es?"
   ]
  },
  {
   "cell_type": "markdown",
   "metadata": {},
   "source": [
    "#### 5.1 Anpassung der Hyperparameter\n",
    "Die **Anpassung der Hyperparameter** (*hyperparameter tuning*) ist ein wichtige Vorgehensweise.\n",
    "Die verschiedenen Modelle haben untershciedliche Hyperparameter.\n",
    "Beim Modell *Entscheidungsbaum* (**DT**) ist ein wesentlicher Hyperparameter die Tiefe, bis zu der der Entscheidungsbaum erstellt wird.\n",
    "Beim Modell *k-Nächster-Nachbarn* (**kNN**) ist die Anzahl der Nachbarn, die für den Vergleich herangezogen werden ein wesentlicher Hyperparameter.\n",
    "Bei **kNN** kann jedoch statt der Anzahl der Nachbarn auch der Radius angegeben werden, in dem Nachbarn gesucht werden.\n",
    "Es gibt weitere Hyperparameter für die Modelle, die in den jeweiligen Beschreibungen der Modelle nachgesehen werden können.\n",
    "\n",
    "**Parameter / Hyperparameter**\n",
    "Es ist wichtig zwischen Parameter und Hyperparameter zu unterscheiden.\n",
    "\n",
    "Ein **Hyperparameter** (*hyperparameter*) ist eine Einstellung im Modell und somit eine Architekturfrage des Modells.\n",
    "Ein Hyperparameter kann ein numerischer Wert sein (Tiefe beim Algorithmus DT) jedoch auch ein nicht-numerischer Wert\n",
    "(typ vom Abstand bei kNN: Anzahl der Nachbarn oder Radius). \n",
    "Dabei kann es mehrere Hyperparameter geben, die in verschiedenen Variationen miteinander gemischt werden können.\n",
    "\n",
    "Ein **Parameter** (*parameter*) ist ein numerischer Wert, der im Rahmen des Trainings gelernt wird.\n",
    "\n",
    "Wenn aus Datenpunkten ein Polynom bestimmt werden soll, welches die Daten am besten nähert (das ist eine Regression, die später behandelt wird),\n",
    "dann ist der Grad des Polynoms ein Hyperparameter.\n",
    "Bei einem Neuronalen Netz (das auch später behandelt wird) die die Anzahl der verborgenen Schichten und die Anzahl der\n",
    "Knoten in den jeweiligen Schichten Hyperparameter. Die Gewichte für die Verbindungen zwischen den Knoten sind die Parameter,\n",
    "die beim Trainieren gelernt werden.\n",
    "\n",
    "Auch die Optimierung der Hyperparameter kann wiederum ein Trainingsprozess sein.\n",
    "Daher kann die Vorbereitung beim Maschinellen Lernen, also das Finden eines geeigneten Modells ein aufwändiger und\n",
    "langwieriger Prozess sein. Ziel ist oftmals ein schnelles und zuverlässiges Modell zu finden. \n",
    "Zur Bedeutung von Hyperparametern, siehe auch [Pro2019].\n",
    "\n"
   ]
  },
  {
   "cell_type": "markdown",
   "metadata": {},
   "source": [
    "#### 5.2 Gestaltung und Auswahl von Eigenschaften\n",
    "Die Eigenschaften der Daten sind die Basisbausteine für das Maschinelle Lernen.\n",
    "Mit diesen Eigenschaften werden die Prozesse gestaltet.\n",
    "Bei der **Gesatltung von Eigenschaften** (*feature engineering*) und der **Auswahl von Eigenschaften** (*feature selection*)\n",
    "werden diese Daten betrachtet. Daher ist es auch wichtig, dass diejenigen, welche die Prozesse gesatlten auch gute\n",
    "fachliche Kenntnisse bezüglich der Daten haben. \n",
    "\n",
    "Wenn die Gesamtübersicht der habitablen Planeten (siehe JN03a-DatenAufbereiten) betrachtet wird,\n",
    "dann ist zu erkennen, dass die Daten  in der zwei-dimensionalen Grafik schräg verlaufen.\n",
    "Beim Algorithmus **DT** wird jedoch immer entlang der vorhandenen Achsen geteilt,\n",
    "also horizontale oder vertikale Schnitte. \n",
    "Durch die Kombination von vorhandenen Eigenschaften kann eine neue Eigenschaft begildet werden.\n",
    "Dieser Vorgang wird **Gesatltung von Eigenschaften** (*feature engineering*) genannt.\n",
    "Bei den habitablen Planeten kann eine Kombination aus den Daten *Masse des Elternplaneten* und *Dauer eines Umlaufes*\n",
    "eine neue Eigenschaft erstellen.\n",
    "Diese neue Eigenschaft ist für den Algorithmus **DT** eventuell geeigneter gute Entscheidung beim Splitten zu treffen.\n",
    "Personen mit einer guten fachlichen Expertise können solche Gestaltungen teilweise bereits im Vorfeld treffen\n",
    "und somit den Prozess beschleunigen.\n",
    "\n",
    "Ebenso ist es möglich Daten wegzulassen. \n",
    "Bei der **Auswahl von Eigenschaften** (*feature selection*) werde also bewusst Daten weggelassen und damit die Problemgröße reduziert.\n",
    "Auch hier ist wieder die Herausforderung, die Daten zu kennen, also fachliches Wissen zu haben, um zu erkennen, welche Daten nicht relevant\n",
    "sind, welche Daten somit ohne Probleme weggelassen werden können.\n",
    "\n",
    "Dies ist ein Teil des ersten Prozessschrittes *vorbereiten / prepare*"
   ]
  },
  {
   "cell_type": "markdown",
   "metadata": {},
   "source": [
    "#### 5.3 Algorithmus wechseln\n",
    "Bei der Aufgabenstellung der habitablen Planeten wurden zwei verschiedene Algorithmen vorgestellt: **DT** und **kNN**.\n",
    "Diese beiden Algorithmen brachten unterschiedliche Ergebnisse. \n",
    "Es gibt noch viele, sehr viele Algorithmen. \n",
    "Daher kann es eine Möglichkeit sein, den **Algortihmus wechseln** (*switching algorithm*)\n",
    "Dann können die Ergebnisse der verschiedenen Algorithmen verglichen werden.\n",
    "Dieser Teil gehört (zusammen mit der Anpassung der Hyperparameter) zum zweiten Prozessschritt (*auswählen / select*).\n",
    "Hierzu ist es erforderlich, verschiedene Algorithmen und insbesondere auch die Einstellmöglichkeiten kennen zu lernen."
   ]
  },
  {
   "cell_type": "markdown",
   "metadata": {},
   "source": [
    "#### 5.4 Lernmenge neu zusamenstellen\n",
    "Wenn die Lernmenge sehr unausgeglichen ist, wie beispielsweise bei den habitablen Planeten,\n",
    "dann kann es hilfreich sein, die Lernmenge neu aufzustellen.\n",
    "Aus der gegebenen Lernmenge werde mit einem Zufallsprozess Daten entnommen und in eine neue Lernmenge eingefügt.\n",
    "Dabei ist die Wahrscheinlichkeit für die Auswahl eines Elementes mit der seltenen Eigenschaft höher als\n",
    "für die Auswahl eine sElementes, welches häufig vorkommt.\n",
    "Dieses Vorgehen wird **Resampling** (*resamplig*) genannt."
   ]
  },
  {
   "cell_type": "markdown",
   "metadata": {},
   "source": [
    "### 5.5 Mehr Daten\n",
    "Eine wichtige Möglichkeit ist auch. mehr Daten zu verwenden.\n",
    "Dies ist jedoch nicht immer einafch machbar.\n",
    "Bei den habitablen Planeten können nicht einfach tausende von neuen Daten erzeugt werden.\n",
    "Bei physikalischen Experimenten, wie am LHC, können jedoch durch weitere Versuchsläufe zusätzliche Daten erzeugt werden.\n",
    "Daher ist es auch immer eine Frage, ob und wie neue, zusätzliche Daten erzeugt werden können.\n",
    "Damit sielen auch Zeit- und Kostenfragen eine bedeutende Rolle (können die neuen Daten schnell genug gewonnen werden,\n",
    "sind die Kosten für die Gewinnung der Daten vertretbar)."
   ]
  },
  {
   "cell_type": "markdown",
   "metadata": {},
   "source": [
    "### Literatur\n",
    "- [Acq2023] Viviana Acquaviva; Machine Learning for Physics and Astronomy; Princeton University Press; 2023\n",
    "- [Pro2019] Philipp Probst, Anne-Laure Boulesteix and Bernd Bischl; Tunability: Importance of Hyperparameters of Machine\n",
    " Learning Algorithms; Journal of Machine Learning Research , 20 (53): 1 - 32; 2019"
   ]
  },
  {
   "cell_type": "markdown",
   "metadata": {},
   "source": []
  }
 ],
 "metadata": {
  "kernelspec": {
   "display_name": "Python 3",
   "language": "python",
   "name": "python3"
  },
  "language_info": {
   "codemirror_mode": {
    "name": "ipython",
    "version": 3
   },
   "file_extension": ".py",
   "mimetype": "text/x-python",
   "name": "python",
   "nbconvert_exporter": "python",
   "pygments_lexer": "ipython3",
   "version": "3.11.1"
  }
 },
 "nbformat": 4,
 "nbformat_minor": 2
}
