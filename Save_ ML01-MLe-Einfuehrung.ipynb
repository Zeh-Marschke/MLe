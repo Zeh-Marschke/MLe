{
 "cells": [
  {
   "cell_type": "markdown",
   "metadata": {},
   "source": [
    "# Maschinelles Lernen - Einführung"
   ]
  },
  {
   "cell_type": "markdown",
   "metadata": {},
   "source": [
    "## 1.1 Was ist Maschinelles Lernen\n",
    "Das Maschinelle Lernen (ML) ist nach Viviana Acquiaviva [Acq23] \n",
    "*der Prozess eine Maschine beizubringen, fundierte, datengestütze Entscheidungen zu treffen* \n",
    "(*the process of teaching a machine to make informed, data-driven decisions*).\n",
    "\n",
    "Die Entwicklung ist in den letzten Jahren durch zwei wichtige Entwicklungen vorangetrieben worden:\n",
    "- die Masse von strukturiert vorliegenden Daten ist enorm angewachsen und\n",
    "- die Rechenleistung ist angestiegen.\n",
    "\n",
    "Gemäß Jake VanderPlas [Van24] basiert ML auf *mathematisch-statistische Kenntnisse*, \n",
    "um riesigen Datenmengen zu modellieren und *Fähigkeiten als Programmierer*, \n",
    "um mit riesigen Datenmengen in der Speicherung, der Verarbeitung und der Visualisierung umzugehen. \n",
    "Dies alleine reicht jedoch nicht.\n",
    "Er führt weiter aus, dass auch *fundiertes Fachwissen* benötigt wird, damit die richtigen Fragen\n",
    "gestellt werden können und damit die Antworten klar interpretiert werden können."
   ]
  },
  {
   "cell_type": "markdown",
   "metadata": {},
   "source": [
    "## 1.2 Welche Aufgaben können mit ML durchgeführt werden?\n",
    "Viviana Acquaviva [Acq23] beschreibt die Aufgaben des ML folgendermaßem:\n",
    "### 1. **erkennen** (*recognize*): korrektes Erkennen von Mustern oder Bildern\n",
    "Dazu zählen beispielsweise\n",
    "- Das Erkennen von Katzen oder Hunden auf Bildern,\n",
    "- Das Erkennen von Iris-Blüten in dem berühmten Irisdatensatz des Botanikers *Edgar Anderson*.\n",
    "Hier soll anhand von vier Merkmalen entschieden werden, zu welchen von drei Arten eine Blüte gehört. \n",
    "- Das Erkennen von Ziffern aus handschriftlichen Notizen. Hier gibt es zehn verschiedene Zeichen, die erkannt werden sollen.\n",
    "- Das Erkennen von möglicherweisen habitablen Exoplanten. Hier gibt es zwei verschiedene Möglichkeiten: bewohnbar oder nicht bewohnbar.\n",
    "Dies ist eine *binäre Klassifizierung*.\n",
    "- Das Erkennen von bestimmten Zerfallsprodukten oder -prozessen in LHC (Large Hadron Collider) \n",
    "bei einen Proton-Proton-Kollision bei hoher Energie.\n",
    "\n",
    "### 2. **vorhersagen** (*predict*): zukünftiges Verhalten vorhersagen; vervollständigen fehlender Daten\n",
    "Dazu zählen beispielsweise:\n",
    "- Auf Basis von einigen Daten Werte für andere Daten vorhersagen. \n",
    "- Die Rekonstruktion fehlender teile in einem Bild.\n",
    "\n",
    "### 3. **gruppieren**  (*group together*): Objekte vergleichen und zu Gruppen anordnen\n",
    "Dazu zählen beispielsweise:\n",
    "- Verschiedene Typen von Galaxien an Hand von Bildern erkennen\n",
    "- Gemeinsamkeiten und Trennendes von Daten erkennen\n",
    "\n",
    "### 4. **vereinfachen** (*simplify*): Daten zusammenfassen und kondensieren, so dass sie besser verständlich sind\n",
    "Dazu gehört beispielsweise:\n",
    "- Die Reduktion der Dimension der Daten (*dimensionality reduction*). \n",
    "Die Daten auf einem Kreis in der $x-y$-Ebene können mittels zweier Werte ($x$ und $y$) oder mit Hilfe nur eines\n",
    "Parameters dargestellt werden.\n",
    "\n",
    "<TODO: die Beispiele präziser fassen (insbesondere die klassischen Beispiele Irisblüten, Zifferenerkennen), \n",
    "eventuell Referenzen anbringen, und noch mehr Beispiele aus Physik und Astronomie>>\n"
   ]
  },
  {
   "cell_type": "markdown",
   "metadata": {},
   "source": [
    "## 1.3 Welche grundlegende Verfahren gibt es\n",
    "\n",
    "Für das ML gibt es drei grundlegende Verfahren (siehe auch [Ngu21]):\n",
    "\n",
    "### überwachten Lernen (*supervised learning*)\n",
    "Beim überwachten Lernen gibt es eine Sammlung von Datenn, für welche das jeweils das Ergebnis bekannt ist. \n",
    "Beim Lernprozess können daher Vorhersagen mit den bekannten Ergebnissen abgeglichen werden. \n",
    "Zum überwachten Lernen gehören:\n",
    "- die **Klassifikation** (*classification*), bei der ein Ergebnis für unbekannte Datensätze erkannt wird (Aufgabe: **erkennen**)\n",
    "- die **Regression** (*regresson*), was dem Erlernen einen kontinuierlichen Funktion auf Basis von bekannten Daten entspricht\n",
    "und somit Werte vorhersagen kann (AUfgabe: **vorhersagen**)\n",
    "\n",
    "### unüberwachten Lernen (*unsupervised learning*)\n",
    "Beim unüberwachten Lernen sind Ergebnisse für die Instanzen nicht bekannt.\n",
    "Zu unüberwachtem Lernen gehören:\n",
    "- das **Clustering** (*clustering*), also das Zusammenfassen von Daten zu Haufen, die ähnlich sind oder ähnliche Eigenschaften haben.\n",
    "- die **Vereinfachung von Daten** (*dimensionality reduction*)\n",
    "\n",
    "### Verstärkendes Lernen (*reinforcement learning*)\n",
    "Beim verstärkenden Lernen werden beim Lernprozess durch positive oder negative Rückmeldung nach einer Aktion\n",
    "die Optimierung eines Verhaltens gefördert.\n",
    "\n",
    "Im weiteren wird insbesondere das überwachte Lernen betrachtet."
   ]
  },
  {
   "cell_type": "markdown",
   "metadata": {},
   "source": [
    "## 2 Die Sprache der maschinellen Lernens\n",
    "\n",
    "### 2.1 Instanze, Eigenschaften, Ergebnis und Modell\n",
    "\n",
    "Für das MLn werden Daten herangezogen und analysiert. Die Daten bestehen aus $N$ **Instanzen** (*instances*).\n",
    "Die Instanzen werden machmal auch kurz Beispiele (*sampes*,*examples*) oder in der Physik Beobachtungen (*observables*) genannt. \n",
    "Diese Instanzen bestehen aus $n$ bekannten **Eigenschaften** (*features*) auch die *Input*-Daten genannt. \n",
    "Diese Eigenschaften können numerische Werte sein, müssen es jedoch nicht. \n",
    "Für die weitere Verarbeitung ist es jedoch notwendig, wenn alle Daten numerisch sind. \n",
    "Hierzu kann eine einfache Abbildung von nicht-numerischen Werten auf numerische Werte durchgeführt werden. \n",
    "Darüber hinaus gibt es eine Eigenschaften, die aus den *Input*-Daten abgeleitet werden soll. \n",
    "Diese Daten heißen **Ergebnis** (*target*), die auch *Output*-Daten genannt werden.\n",
    "\n",
    "Damit sind die Input-Daten $X$ eine reelle $N \\times n$-Matrix, $X = (x_{i,j}) \\in \\mathbb{R}^{N \\times n}$.\n",
    "In jeder der $N$ Zeilen stehen die *features* der Instanzen. In jeder einzelnen der $n$ Spalten stehen die\n",
    "Daten für ein *feature*.\n",
    "Die Output-Daten bilden einen reellen Vektor der Länge $N$: $\\textbf{y} = (y_i)^T \\in \\mathbb{R}^{N}$. \n",
    "In ihm stehen die *target*s der einzelnen Instanzen.\n",
    "\n",
    "Bei klassischen Programmen wird eine Funktion geschrieben, welche die Eingabedaten in die Ausgabedaten transformiert. \n",
    "Hierzu muss die Funktion jedoch bekannt sein. Beim ML hingegebn ist die Funktion oder die Parameter der Funktion nicht bekannt. \n",
    "Es soll ein möglichst gutes **Maschinelles Lernen-Modell** (*maschine learning model*) erstellt - gelernt - werden, \n",
    "welches die *Output*-Daten aus den *Input*-Daten ermittelt. Dann kann auch für unbekannte Datensätze \n",
    "aus gegebenen Input-Daten die Output-Daten vorhergesagt werden.\n",
    "\n",
    "### 2.2 Lerndaten, Trainingsdaten, Testdaten\n",
    "\n",
    "Beim überwachten Lernen wird die Sammlung von Daten, die für das Lernen zur Verfügung stehen als **Lerndaten** (*learning set*) bezeichnet.\n",
    "Für diese Lerndaten sind die Input-Daten und die dazugehörigen Output-Daten bekannt.\n",
    "Diese Lerndaten werden in zwei Teile zerlegt:\n",
    "- Mit den **Trainingsdaten** (*training set*) wird ein Modell und die dazugehörigen Parameter berechnet, welche die\n",
    "Beziehung zwischen den Input-Daten und den Output-Daten beschreibt.\n",
    "- Mit den **Testdaten** (*test set*) wird das Modell und die bestimmten Parameter überprüft. Es wird somit geprüft,\n",
    "ob das Modell, das aus den Trainingsdaten bestimmt wird, die Testdaten gut beschreiben.\n",
    "\n",
    "Die $N$ Instanzen werden aufgeteilt in $N_{train}$ Trainingsdaten ($X_{train}$, $\\textbf{y}_{train}$) \n",
    "und $N_{test}$ Testdaten ($X_{test}$, $\\textbf{y}_{test}$).\n",
    "Dies ist ein zufälliger Prozess. Eine gebräuchliche Aufteilung ist 70% Trainingsdaten und 30% Testdaten.\n",
    "Diese Werte können jedoch variieren.\n",
    "\n",
    "Wichtig dabei ist die zufällige Auswahl der Trainingsdaten, damit die Trainingsdaten ein\n",
    "repräsentatives Bild der gesamten Daten abgeben!\n",
    "Nach Viviana Acquaviva [Acq23] ist das überwachte Lernen nur so gut, wie die Daten, die in den Lerndaten enthalten sind\n",
    "(*a supervised learning method is only as good as its learning set*):\n",
    "- gibt es zu wenig Daten, dann kann das Modell den Zusammenhang zwischen Input und Output nicht richtig erlernen,\n",
    "- ist die Auswahl der Daten in den Lerndaten nicht repräsentativ für alle Daten, dann lernt das Modell einen falschen Zusammenhang.\n",
    "\n",
    "Daher ist es wichtig, die Daten zu verstehen. Dazu wird das Fachwissen benötigt, um die Daten richtig zu interpretieren. \n",
    "Viviana Acquaviva schreibt dazu: \n",
    "\n",
    "*Because [machine learning techniques] are driven by the data as opposed to relying on physical intuition,\n",
    "we are bound to make a fool of ourselves if we don't understand the data well.*\n",
    "\n",
    "### 2.3 Fehlerrate, Erfolgsrate\n",
    "Für die Überprüfung, ob das gewählte Modell eine gute Beschreibung der Beziehung zwischen Input-Daten und Output-Daten ist,\n",
    "wird die **Fehlerrate** (*rate of failure (error)*) beziehungsweise \n",
    "die **Erfolgsrate** (*rate of success (score)*) bestimmt. Dies wird sowohl bei den\n",
    "Trainingsdaten als auch bei den Testdaten durchgeführt. Damit werden\n",
    "- **Trainingsfehlerrate** (*training error*), **Trainingserfolgsrate** (*training score*) und\n",
    "- **Testsfehlerrate** (*test error*), **Testerfolgsrate** (*test score*)\n",
    "\n",
    "ermittelt. Wenn das Modell auf Daten angewendet werden, die nicht in den Lerndaten enthalten sind, \n",
    "dann werden ebenso Fehler und Erfolg gemessen. Dies wird dann **Generalisierungsfehler** (*gerneralization error*) \n",
    "beziehungsweise **Generalisierungerfolg** (*generalization score*) genannt.\n",
    "\n",
    "Durch den Vergleich von diesen Kennzahlen (später werden noch weitere Kennzahlen eingeführt) werden die Ergebnisse\n",
    "verschiedener Modelle und auch unterschiedlicher Parametrisierungen von Modellen verglichen, um damit abzuwägen,\n",
    "welche Modelle und welche Parameter für die Modelle geeignet sind.\n"
   ]
  },
  {
   "cell_type": "markdown",
   "metadata": {},
   "source": [
    "## 3 Der generelle Ablauf\n",
    "\n",
    "Wie sieht der Ablauf beim Mascinellen Lernen aus. Viviana Acquviva beschreibt den Ablauf folgendermaßen (siehe [Acq23]):\n",
    "\n",
    "### Schritt 1: Aufbereitung der Daten\n",
    "\n",
    "**Datenaufbereitung** Die Daten, die verwendet werden müssen oftmals aufbereitet werden.\n",
    "Auch der Umgang mit fehlenden Daten muss geklärt werden. \n",
    "Die Daten werden dabei oftmals als ein *panda-Datenframe* bereitsgestellt.\n",
    "Hier wird jedoch das Werkzeug *panda* nicht genauer betrachtet. \n",
    "Die Daten werden als ein $numpy-array$ aufgebaut,\n",
    "wobei die Daten bereinigt sind.\n",
    "(Wenn die Daten als *panda-datenframe* kommen, \n",
    "dann werden sie für die weitere Bearbeitung meistens in ein *numpy-array* umgewandelt.)\n",
    "\n",
    "**Splitten** Die Daten werden aufgeteilt in Trainingsdaten und Testdaten.\n",
    "Damit stehen am Ende dieses Schritten die Trainingsdaten $X_{train}$, $\\textbf{y}_{train}$ \n",
    "und die Testdaten $X_{test}$, $\\textbf{y}_{test}$ zur Verfügung.\n",
    "\n",
    "### Schritt 2: ML Algorithmus auswählen\n",
    "In diesem Schritt wird der Algorithmus gewählt, der für das Training angewendet werden soll. \n",
    "Dabei werden auch die Parameter für den Algorithmus festgelegt.\n",
    "\n",
    "Beispiel: Soll ein Polynom bestimmt werden, dann ist festzulegen, welchen Grad das Polynom haben soll.\n",
    "Der Grad des Polynoms ist dann ein *Hyperparameter*, die noch unbekannten Koeffizienten des Polynoms\n",
    "die *Parameter*, die bestimmt werden sollen.\n",
    "\n",
    "Es gibt sehr viele ML Algorithmen, die gewählt werden können. Es können hier nur einige wenige vorgestellt werden. \n",
    "Grundlegende Begriffe, wie Trainingsdaten, Testdaten, Fehlerrate, Erfolgsrate und weitere Begriffe,\n",
    "die im folgenden noch besprochen werden sind jedoch für alle gleich.\n",
    "\n",
    "### Schritt 3: Modell mit Hilfe der Trainingsdaten bilden (*fit*)\n",
    "Der ausgewählte Algorithmus wird auf die Trainingsdtaen angewendet. Dies generiert dann ein vorläufige\n",
    "Beziehung zwischen den Input- und Outputdaten. Damit wird also der Zusammenhang, gemäß dem gewählten\n",
    "Algorithmus beschrieben. Dies ist in der Regeln ein sehr rechenintensiver Vorgang.\n",
    "\n",
    "### Schritt 4: Modell auf die Testdaten anwenden (*predict*)\n",
    "Das vorhandene Modell, wird auf die Testdaten angewendet. Aus den Inputdaten der Testdaten werden Vorhersagen \n",
    "für die Output-Daten erstellt $\\hat{\\textbf{y}}_{test}$. Das sind die Vorhersagewerte auf Basis des ermittelten Modells.\n",
    "\n",
    "### Schritt 5: Perfomance bestimmen\n",
    "Auf Basis eine vorab bestimmten Bewertungsmaßstabes (*evaluation metric*) wird die Perfomance des Modells\n",
    "auf die Daten ermittelt. Hierzu findet ein Vergleich der Vorhersagewerte $\\hat{\\textbf{y}}_{test}$ \n",
    "mit den echten Werten $\\textbf{y}_{test}$ statt.\n",
    "\n",
    "### Schritt 6: Ergebnis analysieren\n",
    "Es kann sein, dass das erzielte Ergebnis gut ist - das ist jedoch in der Regel unwahrscheinlich.\n",
    "Oftmals muss man überlegen, was verbessert werden kann oder muss. \n",
    "Sollen die Hyperparameter für den Algorithmus anders gewählt werden, \n",
    "werden mehr Daten benötigt, \n",
    "was funktioniert nicht so gut, was muss besser gestaltet werden.\n",
    "\n",
    "Daraufhin kann der ML Algorithmus geändert oder verändert werden und das Ablauf wiederholt sich\n"
   ]
  },
  {
   "cell_type": "markdown",
   "metadata": {},
   "source": [
    "## 4 Überwachtes Lernen - Lineare Regression\n",
    "\n",
    "Dazu ein Beispiel, das mit einfachen Daten und einem einfachen Algorithmus durchgeführt wird.\n",
    "\n",
    "Also generelle Werkzeuge werden **NumPy** und **Mathplotlib** verwendet, die gleich am Anfnag import werden. \n",
    "Weiteres Werkzeug ist **sklearn** oder **scikit-learn**, eine freie Software-Bibliothek zum maschinellen Lernen für die Programmiersprache Python.\n",
    "Die benötigten Komponenten werden jedoch erst dann importiert, wenn sie benötigt werden."
   ]
  },
  {
   "cell_type": "code",
   "execution_count": 1,
   "metadata": {},
   "outputs": [],
   "source": [
    "import numpy as np\n",
    "import matplotlib.pyplot as plt"
   ]
  },
  {
   "cell_type": "markdown",
   "metadata": {},
   "source": [
    "### 4.1 Daten\n",
    "Ausgangspunkt sind Daten, die der Gleichung $y = m * x + b + \\mathcal{N}(0,u)$ genügen.\n",
    "Hierbei ist $m$ die Steigung (*slope*) der Geraden, $b$ der $y$-Achsenabschnitt (*intercept*).\n",
    "Darüber hinaus ist $\\mathcal{N}(0,u)$ eine normalverteilte Unsicherheit um den Erwartungswert $0$ mit der Standardabweichung $u$ (*uncertainty*).\n",
    "\n",
    "In der Regel sind nur Daten, jedoch keine Formel für den Zusammenhang, bekannt. Damit jedoch die verschiedenen Schritte mit den \n",
    "orignalen Ausgangsdaten abgeglichen werden können, ist die Bildung der Daten hier gleich am Anfang offengelegt.\n",
    "\n",
    "Die Daten sind hier so einfach gewählt, damit die Daten auch gut geplotted werden können.\n",
    "Dies hat jedoch den Nachteil, dass die Daten $X$ nur ein Vektor der Länge $N$ ist. \n",
    "Für manche Berechnungen in *sklearn* wird jedoch ein 2-dimensionales Array benötigt,\n",
    "hier also ein $N \\times 1$-Matrix. Daher werden später die Trainings- und Testdaten entsprechend angepasst ('reshape*).\n"
   ]
  },
  {
   "cell_type": "code",
   "execution_count": 2,
   "metadata": {},
   "outputs": [],
   "source": [
    "# --- auxiliary routines\n",
    "\n",
    "# --- define the linear model\n",
    "def linear_model (x, m, b):\n",
    "    return m * x + b\n",
    "\n",
    "# --- define the calculation of the mean squared error\n",
    "def mean_square_error (x1, x2):\n",
    "    n = x1.size\n",
    "    return np.sum ((x1 - x2) **2) / n"
   ]
  },
  {
   "cell_type": "code",
   "execution_count": 3,
   "metadata": {},
   "outputs": [
    {
     "data": {
      "image/png": "[encoded data removed]",
      "text/plain": [
       "<Figure size 640x480 with 1 Axes>"
      ]
     },
     "metadata": {},
     "output_type": "display_data"
    }
   ],
   "source": [
    "from sklearn.model_selection import train_test_split\n",
    "\n",
    "# --- define parameters of the data\n",
    "slope = 1.0          \n",
    "intercept = 2.0      \n",
    "uncertainty = 2.0    \n",
    "n_points = 20        \n",
    "x_min = 0.0          \n",
    "x_max = 10.0         \n",
    "\n",
    "# --- generate data points\n",
    "np.random.seed (20240812)\n",
    "x_data = np.random.uniform (x_min, x_max, n_points)\n",
    "y_data = slope * x_data + intercept + np.random.normal (0.0, uncertainty, n_points)\n",
    "\n",
    "# --- splitt in training- / test-set\n",
    "test_size = 0.3   # 30% \n",
    "X_train, X_test, y_train, y_test = train_test_split (x_data, y_data, test_size = test_size)\n",
    "\n",
    "# --- plot the generated data points\n",
    "plt.plot (X_train, y_train, 'bo', label = \"trainings set\")\n",
    "plt.plot (X_test, y_test, 'go', label = \"test set\")\n",
    "\n",
    "x_line = np.linspace (x_min, x_max, 100)\n",
    "plt.plot (x_line, linear_model (x_line, slope, intercept), label = \"original line\")\n",
    "\n",
    "plt.xlim (x_min, x_max)\n",
    "plt.xlabel (\"x\")\n",
    "y_min = np.min (y_data) - 1.0 \n",
    "y_max = np.max (y_data) + 1.0 \n",
    "plt.ylim (y_min, y_max)\n",
    "plt.ylabel (\"y\")\n",
    "plt.legend ()\n",
    "plt.show ()"
   ]
  },
  {
   "cell_type": "markdown",
   "metadata": {},
   "source": [
    "### 4.2 Der Algorithmus\n",
    "Da die Konstruktion der Daten bekannt ist, wird als ML Algorithmus die **Lineare Regression** (LR) gewählt.\n",
    "\n",
    "Die lineare Regression ist in der Regressionsanalyse die Bestimmung einer Geraden nach der Methode der Kleinst-Quadrat-Prinzip (siehe [Wew11], Abschnitt 3.2). \n",
    "Dies ist auch in *sklearn* implementiert!"
   ]
  },
  {
   "cell_type": "code",
   "execution_count": 4,
   "metadata": {},
   "outputs": [],
   "source": [
    "from sklearn.linear_model import LinearRegression\n",
    "\n",
    "lr_model = LinearRegression ()"
   ]
  },
  {
   "cell_type": "markdown",
   "metadata": {},
   "source": [
    "Per Hand ist die Implementierung der linearen Regression auch nicht schwierig.\n",
    "Dies wird in der nächsten Zelle durchgeführt und dann mit den Werten von *sklearn* verglichen.\n",
    "Als Basisdaten wird der geasmte Datenumfang herangezogen."
   ]
  },
  {
   "cell_type": "code",
   "execution_count": 5,
   "metadata": {},
   "outputs": [
    {
     "name": "stdout",
     "output_type": "stream",
     "text": [
      "Linear Regression    slope :  1.0114, intercept :  1.6435, correlation coefficient :  0.6786, mse :  4.0881\n",
      "sklearn              slope :  1.0114, intercept :  1.6435, correlation coefficient :  0.6786, mse :  4.0881\n"
     ]
    }
   ],
   "source": [
    "# --- define the Lineare Regression-method\n",
    "def LinReg (x, y):\n",
    "    n = x.size\n",
    "    sum_x = np.sum (x)\n",
    "    sum_y = np.sum (y)\n",
    "    sum_x2 = np.sum (x * x)\n",
    "    sum_xy = np.sum (x * y)\n",
    "    sum_y2 = np.sum (y * y)\n",
    "    m = (n * sum_xy - sum_x * sum_y) / (n * sum_x2 - sum_x **2)\n",
    "    b = (sum_x2 * sum_y - sum_x * sum_xy) / (n * sum_x2 - sum_x **2)\n",
    "    r = (n * sum_xy - sum_x * sum_y) / (np.sqrt (n *sum_x2 - sum_x **2) * np.sqrt (n * sum_y2 - sum_y **2))\n",
    "    r2 = r * r\n",
    "    return m, b, r2\n",
    "\n",
    "slope_LinReg, intercept_LinReg, corr_coeff_LinReg = LinReg (x_data, y_data)\n",
    "mse_LinReg = mean_square_error (y_data, linear_model (x_data, slope_LinReg, intercept_LinReg))\n",
    "\n",
    "# --- calculation with sklearn\n",
    "x_reshape = x_data.reshape (-1,1)\n",
    "# You should call .reshape() on x because this array must be two-dimensional, or more precisely, \n",
    "# it must have one column and as many rows as necessary. \n",
    "# That’s exactly what the argument (-1, 1) of .reshape() specifies.\n",
    "# https://realpython.com/linear-regression-in-python/\n",
    "# --- fit the model\n",
    "lr_model.fit (x_reshape, y_data)\n",
    "corr_coeff_sklearn = lr_model.score (x_reshape, y_data) # R^2 !!!\n",
    "intercept_sklearn = lr_model.intercept_\n",
    "slope_sklearn = lr_model.coef_ [0]\n",
    "mse_sklearn = mean_square_error (y_data, linear_model (x_data, slope_sklearn, intercept_sklearn))\n",
    "# --- print the results\n",
    "print (f\"Linear Regression    slope : {slope_LinReg:7.4f}, intercept : {intercept_LinReg:7.4f}, correlation coefficient : {corr_coeff_LinReg:7.4f}, mse : {mse_LinReg:7.4f}\")\n",
    "print (f\"sklearn              slope : {slope_sklearn:7.4f}, intercept : {intercept_sklearn:7.4f}, correlation coefficient : {corr_coeff_sklearn:7.4f}, mse : {mse_sklearn:7.4f}\")"
   ]
  },
  {
   "cell_type": "markdown",
   "metadata": {},
   "source": [
    "### 4.3 Fit durchführen\n",
    "Jetzt wird der Algorithms (LR) auf die Trainingsdaten angewendet,\n",
    "also die Regressionsgerade nur mit den Trainingsdaten bestimmt.\n",
    "In der obigen Zelle wurde es auf alle Daten angewendet."
   ]
  },
  {
   "cell_type": "code",
   "execution_count": 6,
   "metadata": {},
   "outputs": [
    {
     "name": "stdout",
     "output_type": "stream",
     "text": [
      "LR model fit       slope :  1.1303, intercept :  1.1112, correlation coefficient :  0.7279, mse :  4.5922\n"
     ]
    }
   ],
   "source": [
    "# --- fit \n",
    "lr_model_fit = lr_model.fit (X_train.reshape(-1, 1), y_train)\n",
    "\n",
    "# --- display the generated line\n",
    "corr_coeff_fit = lr_model.score (X_train.reshape(-1, 1), y_train) # R^2 !!!\n",
    "intercept_fit = lr_model.intercept_\n",
    "slope_fit = lr_model.coef_ [0]\n",
    "mse_fit = mean_square_error (y_train, linear_model (X_train, slope_fit, intercept_fit))\n",
    "print (f\"LR model fit       slope : {slope_fit:7.4f}, intercept : {intercept_fit:7.4f}, correlation coefficient : {corr_coeff_fit:7.4f}, mse : {mse_fit:7.4f}\")\n"
   ]
  },
  {
   "cell_type": "markdown",
   "metadata": {},
   "source": [
    "### 4.4 Werte vorhersagen\n",
    "Nun kann das berechnete Modell auf die Testdaten angewendet werden."
   ]
  },
  {
   "cell_type": "code",
   "execution_count": 7,
   "metadata": {},
   "outputs": [
    {
     "name": "stdout",
     "output_type": "stream",
     "text": [
      " x         y         y pred.\n",
      "--------  --------  --------\n",
      " 1.89880   2.30969   3.25740\n",
      " 0.06300   4.21661   1.18237\n",
      " 3.41659   5.81849   4.97298\n",
      " 6.78611   6.14139   8.78159\n",
      " 2.06595   4.87304   3.44634\n",
      " 3.00439   4.15317   4.50707\n",
      "mse:  3.3252\n"
     ]
    },
    {
     "data": {
      "image/png": "[encoded data removed]",
      "text/plain": [
       "<Figure size 640x480 with 1 Axes>"
      ]
     },
     "metadata": {},
     "output_type": "display_data"
    }
   ],
   "source": [
    "# --- predict the test data\n",
    "y_pred_lr = lr_model_fit.predict (X_test.reshape(-1, 1))\n",
    "\n",
    "print (\" x         y         y pred.\")\n",
    "print (\"--------  --------  --------\")\n",
    "for ind in range (X_test.size):\n",
    "    print (f\"{X_test [ind]:8.5f}  {y_test [ind]:8.5f}  {y_pred_lr [ind]:8.5f}\")\n",
    "\n",
    "mse_test = mean_square_error (y_test, y_pred_lr)\n",
    "print (f\"mse: {mse_test:7.4f}\")\n",
    "\n",
    "# --- plot the training  and test data\n",
    "plt.plot (X_train, y_train, 'bo', label = \"trainings set\")\n",
    "plt.plot (X_test, y_test, 'go', label = \"test set\")\n",
    "plt.plot (X_test, y_pred_lr, 'rx', label = \"test predicted\")\n",
    "\n",
    "plt.xlim (x_min, x_max)\n",
    "plt.xlabel (\"x\")\n",
    "\n",
    "y_min = np.min ([np.min (y_data), np.min (y_pred_lr)]) - 1.0\n",
    "y_max = np.max ([np.max (y_data), np.max (y_pred_lr)]) + 1.0\n",
    "plt.ylim (y_min, y_max)\n",
    "plt.ylabel (\"y\")\n",
    "\n",
    "for ind in range (X_test.size):\n",
    "    plt.arrow (X_test [ind], y_test [ind], 0.0, (y_pred_lr [ind] - y_test [ind]))\n",
    "    \n",
    "x_line = np.linspace (x_min, x_max, 100)\n",
    "plt.plot (x_line, linear_model (x_line, slope, intercept), label = \"original line\")\n",
    "plt.plot (x_line, linear_model (x_line, slope_fit, intercept_fit), label = \"LR model\")\n",
    "plt.legend ()\n",
    "plt.show ()"
   ]
  },
  {
   "cell_type": "markdown",
   "metadata": {},
   "source": [
    "### 4.5 Bewerten und analysieren\n",
    "Als Fehler kann jetzt, wie oben schon durchgeführt, die mitllere quadratische Abweichung (*mean squared error*, MSE) für die Testdtaen berechnen werden.\n",
    "Da hier nur ein Wert ermittelt ist, kann kein Vergleich mit anderen Ergebnissen, eventuell mit anderen Algorithmen durchgeführt werden"
   ]
  },
  {
   "cell_type": "code",
   "execution_count": 8,
   "metadata": {},
   "outputs": [
    {
     "name": "stdout",
     "output_type": "stream",
     "text": [
      "mse:  3.3252\n"
     ]
    }
   ],
   "source": [
    "# --- calculate mse\n",
    "mse_test = mean_square_error (y_test, y_pred_lr)\n",
    "print (f\"mse: {mse_test:7.4f}\")"
   ]
  },
  {
   "cell_type": "markdown",
   "metadata": {},
   "source": [
    "## 4.6 Zusammenfassen\n",
    "Es wurde hier ein Durchlauf mit einem Algorithmus für das Maschinelle Lernen durchgeführt. Es gibt einige Dinge, die verändert werden können:\n",
    "- die Aufteilung der Daten in Trainingsdtaen und Testdaten kann verändert werden,\n",
    "- es kann ein anderer Algorithmus gewählt werden\n",
    "- die Bewertung kann verändert werden (wobei dies nichts daran ändert, dass hier nur ein Durchlauf durchgeführt wird)\n",
    "- DIe Anzahl der Parammeter kann geändert werden."
   ]
  },
  {
   "cell_type": "code",
   "execution_count": 14,
   "metadata": {},
   "outputs": [
    {
     "name": "stdout",
     "output_type": "stream",
     "text": [
      "\n",
      "number of learning data : 20\n",
      "number of test data     : 6\n",
      "  line : y =  1.2346 * x +  0.6648\n",
      "  corr.coeff:  0.7959,  mse:  2.9078\n"
     ]
    },
    {
     "data": {
      "image/png": "[encoded data removed]",
      "text/plain": [
       "<Figure size 640x480 with 1 Axes>"
      ]
     },
     "metadata": {},
     "output_type": "display_data"
    },
    {
     "data": {
      "text/plain": [
       "(1.2345742862107132, 0.6647681997400889, 0.7959251937731758, 2.907810215288205)"
      ]
     },
     "execution_count": 14,
     "metadata": {},
     "output_type": "execute_result"
    }
   ],
   "source": [
    "from sklearn.model_selection import train_test_split\n",
    "from sklearn.linear_model import LinearRegression\n",
    "\n",
    "def LR (x_data, y_data, test_size, with_protocol = False, with_plot = False):\n",
    "    X_train, X_test, y_train, y_test = train_test_split (x_data, y_data, test_size = test_size)\n",
    "    lr_model = LinearRegression ()\n",
    "    lr_model_fit = lr_model.fit (X_train.reshape(-1, 1), y_train)\n",
    "    y_pred_lr = lr_model_fit.predict (X_test.reshape(-1, 1))\n",
    "\n",
    "    slope = lr_model.coef_ [0]\n",
    "    intercept = lr_model.intercept_\n",
    "    corr_coeff = lr_model.score (X_train.reshape(-1, 1), y_train) # R^2 !!!\n",
    "    mse = np.sum ((y_test - y_pred_lr) **2) / y_train.size\n",
    "\n",
    "    if with_protocol:\n",
    "        print ()\n",
    "        print (f\"number of learning data : {x_data.size:d}\")\n",
    "        print (f\"number of test data     : {X_test.size:d}\")\n",
    "        print (f\"  line : y = {slope:7.4f} * x + {intercept:7.4f}\")\n",
    "        print (f\"  corr.coeff: {corr_coeff:7.4f},  mse: {mse:7.4f}\")\n",
    "\n",
    "        if with_plot:\n",
    "            plt.plot (X_train, y_train, 'bo', label = \"trainings set\")\n",
    "            plt.plot (X_test, y_test, 'go', label = \"test set\")\n",
    "            plt.plot (X_test, y_pred_lr, 'rx', label = \"test predicted\")\n",
    "\n",
    "            plt.xlim (x_min, x_max)\n",
    "            plt.xlabel (\"x\")\n",
    "\n",
    "            y_min = np.min ([np.min (y_data), np.min (y_pred_lr)]) - 1.0\n",
    "            y_max = np.max ([np.max (y_data), np.max (y_pred_lr)]) + 1.0\n",
    "            plt.ylim (y_min, y_max)\n",
    "            plt.ylabel (\"y\")\n",
    "\n",
    "            for ind in range (X_test.size):\n",
    "                plt.arrow (X_test [ind], y_test [ind], 0.0, (y_pred_lr [ind] - y_test [ind]))\n",
    "    \n",
    "            x_line = np.linspace (x_min, x_max, 100)\n",
    "            plt.plot (x_line, linear_model (x_line, slope, intercept), label = \"original line\")\n",
    "            plt.plot (x_line, linear_model (x_line, slope_fit, intercept_fit), label = \"LR model\")\n",
    "            plt.legend ()\n",
    "            plt.show ()\n",
    "\n",
    "    return slope, intercept, corr_coeff, mse\n",
    "\n",
    "LR (x_data, y_data, 0.3, with_protocol = True, with_plot = True)\n"
   ]
  },
  {
   "cell_type": "code",
   "execution_count": 15,
   "metadata": {},
   "outputs": [
    {
     "name": "stdout",
     "output_type": "stream",
     "text": [
      "\n",
      "number of learning data : 20\n",
      "number of test data     : 2\n",
      "  line : y =  0.9079 * x +  1.9915\n",
      "  corr.coeff:  0.5878,  mse:  0.4635\n",
      "\n",
      "number of learning data : 20\n",
      "number of test data     : 4\n",
      "  line : y =  1.0167 * x +  1.8375\n",
      "  corr.coeff:  0.7067,  mse:  1.6741\n",
      "\n",
      "number of learning data : 20\n",
      "number of test data     : 6\n",
      "  line : y =  1.1372 * x +  0.6912\n",
      "  corr.coeff:  0.7098,  mse:  1.4760\n",
      "\n",
      "number of learning data : 20\n",
      "number of test data     : 8\n",
      "  line : y =  1.1861 * x +  0.7824\n",
      "  corr.coeff:  0.5783,  mse:  2.7596\n"
     ]
    },
    {
     "data": {
      "text/plain": [
       "(1.186110059174259, 0.7823729372227994, 0.5782721908683838, 2.7595559087408663)"
      ]
     },
     "execution_count": 15,
     "metadata": {},
     "output_type": "execute_result"
    }
   ],
   "source": [
    "LR (x_data, y_data, 0.1, with_protocol = True)\n",
    "LR (x_data, y_data, 0.2, with_protocol = True)\n",
    "LR (x_data, y_data, 0.3, with_protocol = True)\n",
    "LR (x_data, y_data, 0.4, with_protocol = True)"
   ]
  },
  {
   "cell_type": "markdown",
   "metadata": {},
   "source": [
    "## 5 Maschinellen Lernen oder Modell fitten\n",
    "\n",
    "Es stellt sich nun die Frage, was besser ist geeignet ist: die Analyse der Daten mit Hilfe von Methoden des Maschinellen Lernens\n",
    "oder aber as direkte fitten des Modells.\n",
    "Dazu schreibt Viviana Acquaviva [Acp23, siehe auch Acq19] über Vor- und Nachteile der beiden\n",
    "Verfahren\n",
    "\n",
    "### Maschinelles lernen\n",
    "- datengetrieben, daher nur so gut wie die Daten\n",
    "- Verallgemeinerung nur schwer möglich (das angewandte Modell kann nicht blindlings auf andere Daten angewendet werden)\n",
    "- Interpretation ist möglich, aber nicht einfach\n",
    "- schnell\n",
    "- robust gegenüber fehlenden Daten\n",
    "- ermöglicht glückliche Entdeckungen\n",
    "\n",
    "### Modell direkt fitten\n",
    "- getrieben durch Intuition oder Modell (nur so gut wie der Wissenschaftler)\n",
    "- Verallgemeinerung (Anwendung auf weitere Daten) gut möglich, wenn die Physik gut verstanden ist\n",
    "- Einfacher zu interpretieren\n",
    "- rechenintensiv\n",
    "- Umgang mit heterogenen Daten oftmals schwierig\n",
    "- Führt zu Informationsverlust, wenn das Modell zu einfach ist"
   ]
  },
  {
   "cell_type": "markdown",
   "metadata": {},
   "source": [
    "## Literatur\n",
    "\n",
    "- [Acq19] Viviana Acquaviva; Pushing the technical frontier: From overwhelmingly large data sets to machine learning; in Proceedings of the International Astronimical Union 15 ( S341), 88 - 98, https://doi.org/10.1017/S1743921319003077\n",
    "- [Acq23] Viviana Acquaviva; Machine Learning for Physisics and Astronomy; Princeton University Press; 2023\n",
    "- [Ngu21] Chi Nhan Nguyen, Oliver Zeigermann; Machine Learning kurz & gut; O'Reilly; 2021\n",
    "- [Van24] Jake VanderPlas; Handbuch Data Science mit Python; O'Reilly; 2024; (Übersetzung der 2. Auflage von *Python Data Science Handbook*)\n",
    "- [Wew11] Max C. Wewel; Statistik im Bachelor-Studium der BWL und VWL: Pearson Studium; 2011 - dafür eventuell eine andere QUelle nehmen"
   ]
  },
  {
   "cell_type": "markdown",
   "metadata": {},
   "source": []
  }
 ],
 "metadata": {
  "kernelspec": {
   "display_name": "Python 3",
   "language": "python",
   "name": "python3"
  },
  "language_info": {
   "codemirror_mode": {
    "name": "ipython",
    "version": 3
   },
   "file_extension": ".py",
   "mimetype": "text/x-python",
   "name": "python",
   "nbconvert_exporter": "python",
   "pygments_lexer": "ipython3",
   "version": "3.11.1"
  }
 },
 "nbformat": 4,
 "nbformat_minor": 2
}
