{
 "cells": [
  {
   "cell_type": "markdown",
   "metadata": {},
   "source": [
    "## Überwachtes Lernen - Lineare Regression\n",
    "\n",
    "Nun ein Beispiel, damit die Sprache und der Ablauf beim Maschinellen Lernen betrachtet wird.\n",
    "Das Beispiel arbeitet mit einfachen Daten und einem einfachen, bekannten Algorithmus.\n",
    "\n",
    "Als generelle Werkzeuge werden **NumPy** und **Mathplotlib** verwendet, die gleich am Anfnag import werden. \n",
    "Weiteres Werkzeug ist **sklearn** oder **scikit-learn**, eine freie Software-Bibliothek zum maschinellen Lernen für die Programmiersprache Python.\n",
    "Die benötigten Komponenten werden jedoch erst dann importiert, wenn sie benötigt werden."
   ]
  },
  {
   "cell_type": "code",
   "execution_count": 1,
   "metadata": {},
   "outputs": [],
   "source": [
    "# --- imports\n",
    "import numpy as np\n",
    "import matplotlib.pyplot as plt"
   ]
  },
  {
   "cell_type": "markdown",
   "metadata": {},
   "source": [
    "### 1 Daten\n",
    "Ausgangspunkt sind Daten, die der Gleichung $y = m * x + b + \\mathcal{N}(0,u)$ genügen.\n",
    "Hierbei ist $m$ die Steigung (*slope*) der Geraden, $b$ der $y$-Achsenabschnitt (*intercept*).\n",
    "Darüber hinaus ist $\\mathcal{N}(0,u)$ eine normalverteilte Unsicherheit um den Erwartungswert $0$ mit der Standardabweichung $u$ (*uncertainty*).\n",
    "\n",
    "In der Regel sind nur Daten, jedoch keine Formel für den Zusammenhang, bekannt. Damit jedoch die verschiedenen Schritte mit den \n",
    "orignalen Ausgangsdaten abgeglichen werden können, ist die Bildung der Daten hier gleich am Anfang offengelegt.\n",
    "\n",
    "Die Daten sind hier so einfach gewählt, damit die Daten auch gut geplotted werden können.\n",
    "Dies hat jedoch den Nachteil, dass die Daten $X$ nur ein Vektor der Länge $N$ ist. \n",
    "Für manche Berechnungen in *sklearn* wird jedoch ein 2-dimensionales Array benötigt,\n",
    "hier also ein $N \\times 1$-Matrix. Daher werden später die Trainings- und Testdaten entsprechend angepasst ('reshape*).\n"
   ]
  },
  {
   "cell_type": "markdown",
   "metadata": {},
   "source": [
    "Anbei zwei kleine Hilfsroutinen, die später verwendet werden\n",
    "- `linear_model` um eine Gerade $y = mx + b$ zu plotten\n",
    "- `mean_square_error`, um die mittlere quadratische Abweichung zwischen zweier Vektoren zu berechnen. \n",
    "  Es ist die Distanz zwischen den beiden Vektoren mit der $L_2$-Norm, dividiert durch die Dimension"
   ]
  },
  {
   "cell_type": "code",
   "execution_count": 2,
   "metadata": {},
   "outputs": [],
   "source": [
    "# --- define the linear model\n",
    "def linear_model (x :np.ndarray, m :float, b :float) -> np.ndarray :\n",
    "    \"\"\"\n",
    "    calculate datapoints on a line y = m * x + b \n",
    "    :input\n",
    "      x : input to function [shape: arbitrary]\n",
    "      m : slope\n",
    "      b : intercept\n",
    "    :return m * x + b [shape: same as x]\n",
    "    \"\"\"\n",
    "    return m * x + b\n",
    "\n",
    "# --- define the calculation of the mean squared error\n",
    "def mean_square_error (x1 :np.ndarray, x2 :np.ndarray) -> float:\n",
    "    \"\"\" \n",
    "    calculate the mean square error (mse) of two vectors \n",
    "    it's the distance between the two vector with the L2-metric,\n",
    "    divided by the dimension of the vectors\n",
    "    input:\n",
    "      x1 : first vector [shape arbitrary]\n",
    "      x2 : second vector [shape: same as x]\n",
    "    return: mse \n",
    "    \"\"\"\n",
    "    n = x1.size\n",
    "    return np.sum ((x1 - x2) **2) / n"
   ]
  },
  {
   "cell_type": "markdown",
   "metadata": {},
   "source": [
    "Es werden jetzt die Lerndaten generiert. Es sind Daten, die der Gleichung\n",
    "$$ y = x \\cdot m + b + \\mathcal{N}(0, u) $$\n",
    "genügen. Hierbei seien $m$ die Steigung (*slope*) der Geraden, $b$ der Achsenabschnitt (*intercept*). \n",
    "Es wird angenommen, dass die Störung / Unsicherheit (*uncertainty*) der Daten eine normalverteilte Zufallsgröße mit dem Erwartungswert $\\mu = 0.0$\n",
    "und der Standardabweichung $\\sigma = u$ ist."
   ]
  },
  {
   "cell_type": "code",
   "execution_count": 3,
   "metadata": {},
   "outputs": [],
   "source": [
    "# --- generate learning set\n",
    "# --- define parameters of the data\n",
    "slope = 1.0          \n",
    "intercept = 2.0      \n",
    "uncertainty = 2.0    \n",
    "n_points = 20        \n",
    "x_min = 0.0          \n",
    "x_max = 10.0         \n",
    "\n",
    "# --- generate data points\n",
    "np.random.seed (20240812)\n",
    "x_data = np.random.uniform (x_min, x_max, n_points)\n",
    "y_data = slope * x_data + intercept + np.random.normal (0.0, uncertainty, n_points)"
   ]
  },
  {
   "cell_type": "markdown",
   "metadata": {},
   "source": [
    "Es erfolgt nun die Aufteilung in Trainingsmenge und Testmenge.\n",
    "Der Parameter `test_size` bestimmt dabei den Umfang der Testdaten. Bei einem Wert kleiner als $1.0$ ist ein ein relativer Anteil.\n",
    "Bei einer ganzen Zahl größer $1$ ist es eine feste Anzahl.\n",
    "\n",
    "Anschließend werden die Daten zur Veranschaulichung geplottet.\n",
    "Neben den Datenpunkten (farbig getrennt zwischen Trainingsdaten udn Testdaten)\n",
    "wird auch die originäre Gerade eingezeichnet, auf deren Basis die Punkte berechnet wurden.\n",
    "Im Regelfall kennt man diese Gerade nicht, sondern nur die Datenpunkte.\n",
    "Ziel ist es die Parameter der Geraden zu bestimmen.\n",
    "Hierbei wird angenommen, dass die zu Grunde liegende Funktion eine Gerade ist.\n",
    "\n",
    "Der Split der Daten erfolgt nach den Zufallsprinzip. DIes wird mit der Routine `train_test_split` vom Paket sklearn durchgeführt."
   ]
  },
  {
   "cell_type": "code",
   "execution_count": 4,
   "metadata": {},
   "outputs": [
    {
     "data": {
      "image/png": "[encoded data removed]",
      "text/plain": [
       "<Figure size 640x480 with 1 Axes>"
      ]
     },
     "metadata": {},
     "output_type": "display_data"
    }
   ],
   "source": [
    "from sklearn.model_selection import train_test_split\n",
    "\n",
    "# --- splitt in training- / test-set\n",
    "test_size = 0.3   # 30% \n",
    "X_train, X_test, y_train, y_test = train_test_split (x_data, y_data, test_size = test_size)\n",
    "\n",
    "# --- plot the generated data points\n",
    "plt.plot (X_train, y_train, 'bo', label = \"training set\")\n",
    "plt.plot (X_test, y_test, 'go', label = \"test set\")\n",
    "\n",
    "x_line = np.linspace (x_min, x_max, 100)\n",
    "plt.plot (x_line, linear_model (x_line, slope, intercept), label = \"original line\")\n",
    "\n",
    "plt.xlim (x_min, x_max)\n",
    "plt.xlabel (\"x\")\n",
    "y_min = np.min (y_data) - 1.0 \n",
    "y_max = np.max (y_data) + 1.0 \n",
    "plt.ylim (y_min, y_max)\n",
    "plt.ylabel (\"y\")\n",
    "plt.legend ()\n",
    "plt.show ()"
   ]
  },
  {
   "cell_type": "markdown",
   "metadata": {},
   "source": [
    "### 2 Der Algorithmus\n",
    "Da die Konstruktion der Daten bekannt ist - die Datenbasieren auf einer Geraden -, \n",
    "wird als ML Algorithmus die **Lineare Regression** (LR, *linear regression*) gewählt.\n",
    "\n",
    "Die lineare Regression ist in der Regressionsanalyse die Bestimmung einer Geraden nach dem der Kleinst-Quadrat-Prinzip \n",
    "(siehe [Erd2020], Abschnitt 7.2). \n",
    "Die Lineare Regression wird sowohl per Hand berechnet als auch mit Hilfe von *sklearn*,\n",
    "da das Verfahren in *sklearn* implementiert ist!"
   ]
  },
  {
   "cell_type": "code",
   "execution_count": 5,
   "metadata": {},
   "outputs": [],
   "source": [
    "from sklearn.linear_model import LinearRegression\n",
    "\n",
    "# --- define model\n",
    "lr_model = LinearRegression ()"
   ]
  },
  {
   "cell_type": "markdown",
   "metadata": {},
   "source": [
    "Per Hand ist die Implementierung der linearen Regression auch nicht schwierig.\n",
    "Dies wird in der nächsten Zelle durchgeführt und dann mit den Werten von *sklearn* verglichen.\n",
    "Als Basisdaten wird der gesamte Datenumfang herangezogen.\n",
    "Somit wird noch kein Training durchgeführt.\n",
    "\n",
    "Beim Vergleich wird auch die mittlere quadratische Abweichung zwischen den mit der Regressionsgerade berechneten Werten $\\hat{y}$\n",
    "und den tatsächlichen Werten $y$ berechnet."
   ]
  },
  {
   "cell_type": "code",
   "execution_count": 6,
   "metadata": {},
   "outputs": [
    {
     "name": "stdout",
     "output_type": "stream",
     "text": [
      "Linear Regression    slope :  1.0114, intercept :  1.6435, correlation coefficient :  0.6786, mse :  4.0881\n",
      "sklearn              slope :  1.0114, intercept :  1.6435, correlation coefficient :  0.6786, mse :  4.0881\n"
     ]
    }
   ],
   "source": [
    "# --- define the Lineare Regression-method\n",
    "def LinReg (x : np.ndarray, y : np.ndarray):\n",
    "    \"\"\"\n",
    "    calculate the line according the linear regression method \n",
    "    and the coefficient of correlation \n",
    "    input:\n",
    "      x: x-values of the datapoints\n",
    "      y: y-values of the datapoints\n",
    "    return:\n",
    "      m: slope of the line\n",
    "      b: intercept of the line\n",
    "      r2: squared coefficient of correlation\n",
    "    \"\"\"\n",
    "    n = x.size\n",
    "    sum_x = np.sum (x)\n",
    "    sum_y = np.sum (y)\n",
    "    sum_x2 = np.sum (x * x)\n",
    "    sum_xy = np.sum (x * y)\n",
    "    sum_y2 = np.sum (y * y)\n",
    "    m = (n * sum_xy - sum_x * sum_y) / (n * sum_x2 - sum_x **2)\n",
    "    b = (sum_x2 * sum_y - sum_x * sum_xy) / (n * sum_x2 - sum_x **2)\n",
    "    r = (n * sum_xy - sum_x * sum_y) / (np.sqrt (n *sum_x2 - sum_x **2) * np.sqrt (n * sum_y2 - sum_y **2))\n",
    "    r2 = r * r\n",
    "    return m, b, r2\n",
    "\n",
    "slope_LinReg, intercept_LinReg, corr_coeff_LinReg = LinReg (x_data, y_data)\n",
    "mse_LinReg = mean_square_error (y_data, linear_model (x_data, slope_LinReg, intercept_LinReg))\n",
    "\n",
    "# --- calculation with sklearn\n",
    "x_reshape = x_data.reshape (-1,1)\n",
    "# You should call .reshape() on x because this array must be two-dimensional, or more precisely, \n",
    "# it must have one column and as many rows as necessary. \n",
    "# That’s exactly what the argument (-1, 1) of .reshape() specifies.\n",
    "# https://realpython.com/linear-regression-in-python/\n",
    "\n",
    "# --- fit the model\n",
    "lr_model.fit (x_reshape, y_data)\n",
    "corr_coeff_sklearn = lr_model.score (x_reshape, y_data) # R^2 !!!\n",
    "intercept_sklearn = lr_model.intercept_\n",
    "slope_sklearn = lr_model.coef_ [0]\n",
    "mse_sklearn = mean_square_error (y_data, linear_model (x_data, slope_sklearn, intercept_sklearn))\n",
    "\n",
    "# --- compare the results\n",
    "print (f\"Linear Regression    slope : {slope_LinReg:7.4f}, intercept : {intercept_LinReg:7.4f}, correlation coefficient : {corr_coeff_LinReg:7.4f}, mse : {mse_LinReg:7.4f}\")\n",
    "print (f\"sklearn              slope : {slope_sklearn:7.4f}, intercept : {intercept_sklearn:7.4f}, correlation coefficient : {corr_coeff_sklearn:7.4f}, mse : {mse_sklearn:7.4f}\")"
   ]
  },
  {
   "cell_type": "markdown",
   "metadata": {},
   "source": [
    "Die Ergebnisse sind identisch. Daher wird im Folgenden die Berechnung mittels *sklearn* durchgeführt, nicht per Hand.\n",
    "Dies, obwohl die Rechenzeit für die *sklearn*-Routine größer ist als bei der direkten Berechnung per Hand!"
   ]
  },
  {
   "cell_type": "code",
   "execution_count": 7,
   "metadata": {},
   "outputs": [
    {
     "name": "stdout",
     "output_type": "stream",
     "text": [
      "21.6 μs ± 673 ns per loop (mean ± std. dev. of 7 runs, 10,000 loops each)\n",
      "502 μs ± 5.06 μs per loop (mean ± std. dev. of 7 runs, 1,000 loops each)\n"
     ]
    }
   ],
   "source": [
    "%timeit slope_LinReg_, intercept_LinReg_, corr_coeff_LinReg_ = LinReg (x_data, y_data)\n",
    "\n",
    "%timeit lr_model.fit (x_reshape, y_data)"
   ]
  },
  {
   "cell_type": "markdown",
   "metadata": {},
   "source": [
    "### 3 Training (fit) durchführen\n",
    "Jetzt wird der Algorithms (LR) auf die Trainingsdaten angewendet,\n",
    "also die Regressionsgerade nur mit den Trainingsdaten bestimmt.\n",
    "In der obigen Zelle wurde es auf alle Daten angewendet."
   ]
  },
  {
   "cell_type": "code",
   "execution_count": 8,
   "metadata": {},
   "outputs": [
    {
     "name": "stdout",
     "output_type": "stream",
     "text": [
      "Linear Regression  slope :  1.0114, intercept :  1.6435, correlation coefficient :  0.6786, mse :  4.0881\n",
      "LR model fit       slope :  1.1303, intercept :  1.1112, correlation coefficient :  0.7279, mse :  4.5922\n"
     ]
    }
   ],
   "source": [
    "# --- fit \n",
    "lr_model_fit = lr_model.fit (X_train.reshape(-1, 1), y_train)\n",
    "\n",
    "# --- display the generated line\n",
    "corr_coeff_fit = lr_model.score (X_train.reshape(-1, 1), y_train) # R^2 !!!\n",
    "intercept_fit = lr_model.intercept_\n",
    "slope_fit = lr_model.coef_ [0]\n",
    "mse_fit = mean_square_error (y_train, linear_model (X_train, slope_fit, intercept_fit))\n",
    "print (f\"Linear Regression  slope : {slope_LinReg:7.4f}, intercept : {intercept_LinReg:7.4f}, correlation coefficient : {corr_coeff_LinReg:7.4f}, mse : {mse_LinReg:7.4f}\")\n",
    "print (f\"LR model fit       slope : {slope_fit:7.4f}, intercept : {intercept_fit:7.4f}, correlation coefficient : {corr_coeff_fit:7.4f}, mse : {mse_fit:7.4f}\")\n"
   ]
  },
  {
   "cell_type": "markdown",
   "metadata": {},
   "source": [
    "Die Daten vom Training sind in der Nähe der Daten der Linearen Regression und in der Nähe der originalen Daten. \n",
    "DIe mittlere quadratische Abweichung ist für die Trainingsdaten besser."
   ]
  },
  {
   "cell_type": "markdown",
   "metadata": {},
   "source": [
    "### 4 Werte vorhersagen\n",
    "Nun kann das berechnete Modell auf die Testdaten angewendet werden."
   ]
  },
  {
   "cell_type": "code",
   "execution_count": 9,
   "metadata": {},
   "outputs": [
    {
     "name": "stdout",
     "output_type": "stream",
     "text": [
      " x         y         y pred.\n",
      "--------  --------  --------\n",
      " 1.89880   2.30969   3.25740\n",
      " 0.06300   4.21661   1.18237\n",
      " 3.41659   5.81849   4.97298\n",
      " 6.78611   6.14139   8.78159\n",
      " 2.06595   4.87304   3.44634\n",
      " 3.00439   4.15317   4.50707\n",
      "mse:  3.3252\n"
     ]
    },
    {
     "data": {
      "image/png": "[encoded data removed]",
      "text/plain": [
       "<Figure size 640x480 with 1 Axes>"
      ]
     },
     "metadata": {},
     "output_type": "display_data"
    }
   ],
   "source": [
    "# --- predict the test data\n",
    "y_pred_lr = lr_model_fit.predict (X_test.reshape(-1, 1))\n",
    "\n",
    "print (\" x         y         y pred.\")\n",
    "print (\"--------  --------  --------\")\n",
    "for ind in range (X_test.size):\n",
    "    print (f\"{X_test [ind]:8.5f}  {y_test [ind]:8.5f}  {y_pred_lr [ind]:8.5f}\")\n",
    "\n",
    "mse_test = mean_square_error (y_test, y_pred_lr)\n",
    "print (f\"mse: {mse_test:7.4f}\")\n",
    "\n",
    "# --- plot the training and test data\n",
    "plt.plot (X_train, y_train, 'bo', label = \"training set\")\n",
    "plt.plot (X_test, y_test, 'go', label = \"test set\")\n",
    "plt.plot (X_test, y_pred_lr, 'rx', label = \"test predicted\")\n",
    "\n",
    "plt.xlim (x_min, x_max)\n",
    "plt.xlabel (\"x\")\n",
    "\n",
    "y_min = np.min ([np.min (y_data), np.min (y_pred_lr)]) - 1.0\n",
    "y_max = np.max ([np.max (y_data), np.max (y_pred_lr)]) + 1.0\n",
    "plt.ylim (y_min, y_max)\n",
    "plt.ylabel (\"y\")\n",
    "\n",
    "for ind in range (X_test.size):\n",
    "    plt.arrow (X_test [ind], y_test [ind], 0.0, (y_pred_lr [ind] - y_test [ind]))\n",
    "    \n",
    "x_line = np.linspace (x_min, x_max, 100)\n",
    "plt.plot (x_line, linear_model (x_line, slope, intercept), label = \"original line\")\n",
    "plt.plot (x_line, linear_model (x_line, slope_fit, intercept_fit), label = \"LR model\")\n",
    "plt.legend ()\n",
    "plt.show ()"
   ]
  },
  {
   "cell_type": "markdown",
   "metadata": {},
   "source": [
    "### 5 Bewerten und analysieren\n",
    "Als Fehler kann jetzt, wie oben schon durchgeführt, die mitllere quadratische Abweichung (*mean squared error*, MSE) für die Testdaten berechnet werden.\n",
    "Da hier nur ein Wert ermittelt ist, kann kein Vergleich mit anderen Ergebnissen, eventuell mit anderen Algorithmen durchgeführt werden.\n",
    "\n",
    "Später wird die Analyse der Daten genauer erfolgen."
   ]
  },
  {
   "cell_type": "code",
   "execution_count": 10,
   "metadata": {},
   "outputs": [
    {
     "name": "stdout",
     "output_type": "stream",
     "text": [
      "mse:  3.3252\n"
     ]
    }
   ],
   "source": [
    "# --- calculate mse\n",
    "mse_test = mean_square_error (y_test, y_pred_lr)\n",
    "print (f\"mse: {mse_test:7.4f}\")"
   ]
  },
  {
   "cell_type": "markdown",
   "metadata": {},
   "source": [
    "## 6 Parameter verändern\n",
    "Es wurde hier ein Durchlauf mit einem Algorithmus für das Maschinelle Lernen durchgeführt. Es gibt einige Dinge, die verändert werden können:\n",
    "- die Aufteilung der Daten in Trainingsdtaen und Testdaten kann verändert werden,\n",
    "- es kann ein anderer Algorithmus gewählt werden,\n",
    "- die Bewertung kann verändert werden (wobei dies nichts daran ändert, dass hier nur ein Durchlauf durchgeführt wird)\n",
    "- die Anzahl der Parammeter kann geändert werden.\n",
    "\n",
    "Das ist nur ein kurzer Ausschnitt von Dingen, die verändert werden können.\n",
    "Die vielfältigen Änderungsmöglichkeiten bedeuten, ein hoher Anfang am Anfang, um das Model geeignet zu definieren."
   ]
  },
  {
   "cell_type": "markdown",
   "metadata": {},
   "source": [
    "In den nachfolgenden Beispielen wird der Umfang der Trainingsdaten verändert.\n",
    "Welche Veränderungen der gefundenen Lösung ergeben sich daraus?"
   ]
  },
  {
   "cell_type": "code",
   "execution_count": 11,
   "metadata": {},
   "outputs": [
    {
     "name": "stdout",
     "output_type": "stream",
     "text": [
      "\n",
      "number of learning data : 20\n",
      "number of test data     : 6\n",
      "  line : y =  0.9664 * x +  2.0994\n",
      "  corr.coeff:  0.7537,  mse:  3.0062\n"
     ]
    },
    {
     "data": {
      "image/png": "[encoded data removed]",
      "text/plain": [
       "<Figure size 640x480 with 1 Axes>"
      ]
     },
     "metadata": {},
     "output_type": "display_data"
    }
   ],
   "source": [
    "def LR (x_data, y_data, test_size, with_protocol = False, with_plot = False):\n",
    "    X_train, X_test, y_train, y_test = train_test_split (x_data, y_data, test_size = test_size)\n",
    "    lr_model = LinearRegression ()\n",
    "    lr_model_fit = lr_model.fit (X_train.reshape(-1, 1), y_train)\n",
    "    y_pred_lr = lr_model_fit.predict (X_test.reshape(-1, 1))\n",
    "\n",
    "    slope = lr_model.coef_ [0]\n",
    "    intercept = lr_model.intercept_\n",
    "    corr_coeff = lr_model.score (X_train.reshape(-1, 1), y_train) # R^2 !!!\n",
    "    mse = np.sum ((y_test - y_pred_lr) **2) / y_train.size\n",
    "\n",
    "    if with_protocol:\n",
    "        print ()\n",
    "        print (f\"number of learning data : {x_data.size:d}\")\n",
    "        print (f\"number of test data     : {X_test.size:d}\")\n",
    "        print (f\"  line : y = {slope:7.4f} * x + {intercept:7.4f}\")\n",
    "        print (f\"  corr.coeff: {corr_coeff:7.4f},  mse: {mse:7.4f}\")\n",
    "\n",
    "        if with_plot:\n",
    "            plt.plot (X_train, y_train, 'bo', label = \"training set\")\n",
    "            plt.plot (X_test, y_test, 'go', label = \"test set\")\n",
    "            plt.plot (X_test, y_pred_lr, 'rx', label = \"test predicted\")\n",
    "\n",
    "            plt.xlim (x_min, x_max)\n",
    "            plt.xlabel (\"x\")\n",
    "\n",
    "            y_min = np.min ([np.min (y_data), np.min (y_pred_lr)]) - 1.0\n",
    "            y_max = np.max ([np.max (y_data), np.max (y_pred_lr)]) + 1.0\n",
    "            plt.ylim (y_min, y_max)\n",
    "            plt.ylabel (\"y\")\n",
    "\n",
    "            for ind in range (X_test.size):\n",
    "                plt.arrow (X_test [ind], y_test [ind], 0.0, (y_pred_lr [ind] - y_test [ind]))\n",
    "    \n",
    "            x_line = np.linspace (x_min, x_max, 100)\n",
    "            plt.plot (x_line, linear_model (x_line, slope_fit, intercept_fit), label = \"original line\")\n",
    "            plt.plot (x_line, linear_model (x_line, slope, intercept), label = \"LR model\")\n",
    "            plt.legend ()\n",
    "            plt.show ()\n",
    "\n",
    "    return slope, intercept, corr_coeff, mse\n",
    "\n",
    "LR (x_data, y_data, 0.3, with_protocol = True, with_plot = True); # suppress output\n"
   ]
  },
  {
   "cell_type": "code",
   "execution_count": 12,
   "metadata": {},
   "outputs": [
    {
     "name": "stdout",
     "output_type": "stream",
     "text": [
      "\n",
      "number of learning data : 20\n",
      "number of test data     : 2\n",
      "  line : y =  1.0763 * x +  1.3911\n",
      "  corr.coeff:  0.6837,  mse:  0.2758\n",
      "\n",
      "number of learning data : 20\n",
      "number of test data     : 4\n",
      "  line : y =  1.0791 * x +  1.0774\n",
      "  corr.coeff:  0.7278,  mse:  1.0646\n",
      "\n",
      "number of learning data : 20\n",
      "number of test data     : 6\n",
      "  line : y =  1.0942 * x +  1.1669\n",
      "  corr.coeff:  0.7711,  mse:  2.3631\n",
      "\n",
      "number of learning data : 20\n",
      "number of test data     : 8\n",
      "  line : y =  1.2203 * x +  0.4545\n",
      "  corr.coeff:  0.8142,  mse:  4.9139\n"
     ]
    }
   ],
   "source": [
    "LR (x_data, y_data, 0.1, with_protocol = True)\n",
    "LR (x_data, y_data, 0.2, with_protocol = True)\n",
    "LR (x_data, y_data, 0.3, with_protocol = True)\n",
    "LR (x_data, y_data, 0.4, with_protocol = True);"
   ]
  },
  {
   "cell_type": "markdown",
   "metadata": {},
   "source": [
    "Es ist zu erkennen, dass hier die Ergebnisse schlechter werden, je geringer der Datenumfang der Trainingsdtaen ist."
   ]
  },
  {
   "cell_type": "markdown",
   "metadata": {},
   "source": [
    "### 7 Maschinellen Lernen oder Modell fitten\n",
    "\n",
    "Es stellt sich nun die Frage, was besser ist geeignet ist: die Analyse der Daten mit Hilfe von Methoden des Maschinellen Lernens\n",
    "oder aber as direkte fitten des Modells.\n",
    "Dazu schreibt Viviana Acquaviva [Acp23, siehe auch Acq19] über Vor- und Nachteile der beiden\n",
    "Verfahren\n",
    "\n",
    "#### Maschinelles lernen\n",
    "- datengetrieben, daher nur so gut wie die Daten\n",
    "- Verallgemeinerung nur schwer möglich (das angewandte Modell kann nicht blindlings auf andere Daten angewendet werden)\n",
    "- Interpretation ist möglich, aber nicht einfach\n",
    "- schnell\n",
    "- robust gegenüber fehlenden Daten\n",
    "- ermöglicht glückliche Entdeckungen\n",
    "\n",
    "#### Modell direkt fitten\n",
    "- getrieben durch Intuition oder Modell (nur so gut wie der Wissenschaftler)\n",
    "- Verallgemeinerung (Anwendung auf weitere Daten) gut möglich, wenn die Physik gut verstanden ist\n",
    "- Einfacher zu interpretieren\n",
    "- rechenintensiv\n",
    "- Umgang mit heterogenen Daten oftmals schwierig\n",
    "- Führt zu Informationsverlust, wenn das Modell zu einfach ist"
   ]
  },
  {
   "cell_type": "markdown",
   "metadata": {},
   "source": [
    "## Literatur\n",
    "- [Acq2019] Viviana Acquaviva; Pushing the technical frontier: From overwhelmingly large data sets to machine learning; in Proceedings of the International Astronimical Union 15 ( S341), 88 - 98, https://doi.org/10.1017/S1743921319003077\n",
    "- [Acq2023] Viviana Acquaviva; Machine Learning for Physisics and Astronomy; Princeton University Press; 2023\n",
    "- [Erd2020] MArtin Erdmann, Thomas Hebbeker, Alexander Schmidt; Statistishce Methoden in der Experimentalphysik; Pearson: 2020"
   ]
  },
  {
   "cell_type": "markdown",
   "metadata": {},
   "source": []
  }
 ],
 "metadata": {
  "kernelspec": {
   "display_name": "Python 3",
   "language": "python",
   "name": "python3"
  },
  "language_info": {
   "codemirror_mode": {
    "name": "ipython",
    "version": 3
   },
   "file_extension": ".py",
   "mimetype": "text/x-python",
   "name": "python",
   "nbconvert_exporter": "python",
   "pygments_lexer": "ipython3",
   "version": "3.11.1"
  }
 },
 "nbformat": 4,
 "nbformat_minor": 2
}
