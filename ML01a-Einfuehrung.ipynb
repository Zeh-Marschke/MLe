{
 "cells": [
  {
   "cell_type": "markdown",
   "metadata": {},
   "source": [
    "## Maschinelles Lernen - Einführung"
   ]
  },
  {
   "cell_type": "markdown",
   "metadata": {},
   "source": [
    "### 1 Was ist Maschinelles Lernen\n",
    "Das Maschinelle Lernen (ML) ist nach Viviana Acquiaviva [Acq2023] \n",
    "*der Prozess eine Maschine beizubringen, fundierte, datengestütze Entscheidungen zu treffen* \n",
    "(*the process of teaching a machine to make informed, data-driven decisions*).\n",
    "\n",
    "Die Entwicklung ist in den letzten Jahren durch zwei wichtige Entwicklungen vorangetrieben worden:\n",
    "- die Masse von strukturiert vorliegenden Daten ist enorm angewachsen und\n",
    "- die Rechenleistung ist angestiegen.\n",
    "\n",
    "Gemäß Jake VanderPlas [Van2024] basiert ML auf *mathematisch-statistische Kenntnisse*, \n",
    "um riesigen Datenmengen zu modellieren und *Fähigkeiten als Programmierer*, \n",
    "um mit riesigen Datenmengen in der Speicherung, der Verarbeitung und der Visualisierung umzugehen. \n",
    "Dies alleine reicht jedoch nicht.\n",
    "Er führt weiter aus, dass auch *fundiertes Fachwissen* benötigt wird, damit die richtigen Fragen\n",
    "gestellt werden können und damit die Antworten klar interpretiert werden können."
   ]
  },
  {
   "cell_type": "markdown",
   "metadata": {},
   "source": [
    "### 2 Wieso ist der Einsatz von Mascinellem Lernen sinnvol\n",
    "\n",
    "TODO: Hier Beispiele aufführen, wo die Grenzen der klassischen Bearbeitung ist, also Beispiele finden,\n",
    "bei denen die Arbeit mit ML geeignet ist."
   ]
  },
  {
   "cell_type": "markdown",
   "metadata": {},
   "source": [
    "### 3 Welche Aufgaben können mit ML durchgeführt werden?\n",
    "Viviana Acquaviva [Acq2023] beschreibt die Aufgaben des ML folgendermaßem:\n",
    "#### 1. **erkennen** (*recognize*): korrektes Erkennen von Mustern oder Bildern\n",
    "Dazu zählen beispielsweise\n",
    "- Das Erkennen von Katzen oder Hunden auf Bildern,\n",
    "- Das Erkennen von Iris-Blüten in dem berühmten Irisdatensatz des Botanikers *Edgar Anderson*.\n",
    "Hier soll anhand von vier Merkmalen entschieden werden, zu welchen von drei Arten eine Blüte gehört. \n",
    "- Das Erkennen von Ziffern aus handschriftlichen Notizen. Hier gibt es zehn verschiedene Zeichen, die erkannt werden sollen.\n",
    "- Das Erkennen von möglicherweisen habitablen Exoplanten. Hier gibt es zwei verschiedene Möglichkeiten: bewohnbar oder nicht bewohnbar.\n",
    "Dies ist eine *binäre Klassifizierung*.\n",
    "- Das Erkennen von bestimmten Zerfallsprodukten oder -prozessen in LHC (Large Hadron Collider) \n",
    "bei einen Proton-Proton-Kollision bei hoher Energie.\n",
    "\n",
    "#### 2. **vorhersagen** (*predict*): zukünftiges Verhalten vorhersagen; vervollständigen fehlender Daten\n",
    "Dazu zählen beispielsweise:\n",
    "- Auf Basis von einigen Daten Werte für andere Daten vorhersagen. \n",
    "- Die Rekonstruktion fehlender teile in einem Bild.\n",
    "\n",
    "#### 3. **gruppieren**  (*group together*): Objekte vergleichen und zu Gruppen anordnen\n",
    "Dazu zählen beispielsweise:\n",
    "- Verschiedene Typen von Galaxien an Hand von Bildern erkennen\n",
    "- Gemeinsamkeiten und Trennendes von Daten erkennen\n",
    "\n",
    "#### 4. **vereinfachen** (*simplify*): Daten zusammenfassen und kondensieren, so dass sie besser verständlich sind\n",
    "Dazu gehört beispielsweise:\n",
    "- Die Reduktion der Dimension der Daten (*dimensionality reduction*). \n",
    "Die Daten auf einem Kreis in der $x-y$-Ebene können mittels zweier Werte ($x$ und $y$) oder mit Hilfe nur eines\n",
    "Parameters dargestellt werden.\n",
    "\n",
    "<TODO: die Beispiele präziser fassen (insbesondere die klassischen Beispiele Irisblüten, Zifferenerkennen), \n",
    "eventuell Referenzen anbringen, und noch mehr Beispiele aus Physik und Astronomie>>\n"
   ]
  },
  {
   "cell_type": "markdown",
   "metadata": {},
   "source": [
    "### 4 Welche grundlegendemn Verfahren gibt es\n",
    "\n",
    "Für das ML gibt es drei grundlegende Verfahren (siehe auch [Ngu2021]):\n",
    "\n",
    "### überwachten Lernen (*supervised learning*)\n",
    "Beim überwachten Lernen gibt es eine Sammlung von Datenn, für welche das jeweils das Ergebnis bekannt ist. \n",
    "Beim Lernprozess können daher Vorhersagen mit den bekannten Ergebnissen abgeglichen werden. \n",
    "Zum überwachten Lernen gehören:\n",
    "- die **Klassifikation** (*classification*), bei der ein Ergebnis für unbekannte Datensätze erkannt wird (Aufgabe: **erkennen**)\n",
    "- die **Regression** (*regresson*), was dem Erlernen einen kontinuierlichen Funktion auf Basis von bekannten Daten entspricht\n",
    "und somit Werte vorhersagen kann (AUfgabe: **vorhersagen**)\n",
    "\n",
    "### unüberwachten Lernen (*unsupervised learning*)\n",
    "Beim unüberwachten Lernen sind Ergebnisse für die Instanzen nicht bekannt.\n",
    "Zu unüberwachtem Lernen gehören:\n",
    "- das **Clustering** (*clustering*), also das Zusammenfassen von Daten zu Haufen, die ähnlich sind oder ähnliche Eigenschaften haben.\n",
    "- die **Vereinfachung von Daten** (*dimensionality reduction*)\n",
    "\n",
    "### Verstärkendes Lernen (*reinforcement learning*)\n",
    "Beim verstärkenden Lernen werden beim Lernprozess durch positive oder negative Rückmeldung nach einer Aktion\n",
    "die Optimierung eines Verhaltens gefördert.\n",
    "\n",
    "Im weiteren wird insbesondere das überwachte Lernen betrachtet."
   ]
  },
  {
   "cell_type": "markdown",
   "metadata": {},
   "source": [
    "### Zusammenfassung\n",
    "Von den verschiedenen grundlegenden Verfahren wird im Folgenden das überwachte Lernen genauer betrachtet."
   ]
  },
  {
   "cell_type": "markdown",
   "metadata": {},
   "source": [
    "## Literatur\n",
    "- [Acq2023] Viviana Acquaviva; Machine Learning for Physisics and Astronomy; Princeton University Press; 2023\n",
    "- [Ngu2021] Chi Nhan Nguyen, Oliver Zeigermann; Machine Learning kurz & gut; O'Reilly; 2021\n",
    "- [Van2024] Jake VanderPlas; Handbuch Data Science mit Python; O'Reilly; 2024; (Übersetzung der 2. Auflage von *Python Data Science Handbook*)"
   ]
  },
  {
   "cell_type": "markdown",
   "metadata": {},
   "source": []
  }
 ],
 "metadata": {
  "kernelspec": {
   "display_name": "Python 3",
   "language": "python",
   "name": "python3"
  },
  "language_info": {
   "codemirror_mode": {
    "name": "ipython",
    "version": 3
   },
   "file_extension": ".py",
   "mimetype": "text/x-python",
   "name": "python",
   "nbconvert_exporter": "python",
   "pygments_lexer": "ipython3",
   "version": "3.11.1"
  }
 },
 "nbformat": 4,
 "nbformat_minor": 2
}
