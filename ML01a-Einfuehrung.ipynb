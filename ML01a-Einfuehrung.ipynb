{
 "cells": [
  {
   "cell_type": "markdown",
   "metadata": {},
   "source": [
    "# Maschinelles Lernen - eine kurze Einführung"
   ]
  },
  {
   "cell_type": "markdown",
   "metadata": {},
   "source": [
    "## Was ist maschinelles Lernen?\n",
    "In den letzten Jahren gab es zwei wichtige Entwicklungen:\n",
    "- die Masse von strukturiert vorliegenden Daten ist enorm angewachsen und\n",
    "- die Rechenleistung ist angestiegen.\n",
    "\n",
    "Das Maschinelle Lernen (ML) ist nach Viviana Acquiaviva [Acq23] *der Prozess eine Maschine beizubringen, \n",
    "fundierte, datengestütze Entscheidungen zu treffen* \n",
    "(*the process of teaching a machine to make informed, data-driven decisions*).\n",
    "Gemäß Jake VanderPlas [Van24] basiert ML auf *mathematisch-statistische Kenntnisse*, \n",
    "um riesigen Datenmengen zu modellieren und *Fähigkeiten als Programmierer*, um mit risigen Datenmengen \n",
    "in der Speicherung, der Verarbeitung und der Visualisierung umzugehen. Dies alleine reicht jedoch nicht.\n",
    "Er führt weiter aus, dass auch *fundiertes Fachwissen* benötigt wird, damit die richtigen Fragen\n",
    "gestellt werden können und damit die Antworten klar interpretiert werden können.\n"
   ]
  },
  {
   "cell_type": "markdown",
   "metadata": {},
   "source": [
    "## Welche Aufgaben können mit ML durchgeführt werden?\n",
    "Viviana Acquaviva [Acq23] beschreibt die Aufgaben des ML folgendermaßem:\n",
    "- **erkennen** (*recognize*): korrektes Erkennen von Mustern oder Bildern,\n",
    "- **vorhersagen** (*predict*): zukünftiges Verhalten vorhersagen; vervollständigen fehlender Daten;\n",
    "- **gruppieren**  (*group together*): Objekte vergleichen und zu Gruppen anordnen,\n",
    "- **vereinfachen** (*simplify*): Daten zusammenfassen und kondensieren, so dass sie besser verständlich sind."
   ]
  },
  {
   "cell_type": "markdown",
   "metadata": {},
   "source": [
    "## Grundlegende Begriffe beim ML\n",
    "\n",
    "Für das MLn werden Daten herangezogen und analysiert. Die Daten bestehen aus $N$ **Instanzen** (*instances*).\n",
    "Die Instanzen werden machmal auch kurz Beispiele (*sampes*,*examples*) oder in der Physik Beobachtungen (*observables*) genannt. \n",
    "Diese Instanzen bestehen aus $n$ bekannten **Eigenschaften** (*features*) auch die *Input*-Daten genannt. \n",
    "Diese Eigenschaften können numerische Werte sein, müssen es jedoch nicht. \n",
    "Für die weitere Verarbeitung ist es jedoch notwendig, wenn alle Daten numerisch sind. \n",
    "Hierzu kann eine einfache Abbildung von nicht-numerischen Werten auf numerische Werte durchgeführt werden. \n",
    "Darüber hinaus gibt es eine Eigenschaften, die aus den *Input*-Daten abgeleitet werden soll. \n",
    "Diese Daten heißen **Ergebnis** (*target*), die auch *Output*-Daten genannt werden.\n",
    "\n",
    "Damit sind die Input-Daten $X$ eine reelle $N \\times n$-Matrix, $X = (x_{i,j}) \\in \\mathbb{R}^{N \\times n}$.\n",
    "Die Output-Daten bilden einen reellen Vektor der Länge $N$: $y = (y_i) \\in \\mathbb{R}^{N}$.\n",
    "\n",
    "Bei klassischen Programmen wird eine Funktion geschrieben, welche die Eingabedaten in die Ausgabedaten transformiert. \n",
    "Hierzu muss die Funktion jedoch bekannt sein. Beim ML hingegebn ist die Funktion oder die Parameter der Funktion nicht bekannt. \n",
    "Es soll ein möglichst gutes **Maschinelles Lernen-Model** (*maschine learning modell*) erstellt - gelernt - werden, \n",
    "welches die *Output*-Daten aus den *Input*-Daten ermittelt. Dann kann auch für unbekannte Datensätze \n",
    "aus gegebenen Input-Daten die Output-Daten vorhergesagt.\n",
    "\n",
    "Für das ML gibt es zwei grundlegende Verfahren:\n",
    "- beim **überwachten Lernen** (*supervised learning*) gibt es eine Sammlung von Instanzen, für die der Output-Daten bekannt sind.\n",
    "Beim Lernprozess können daher Vorhersagen mit den bekannten Ergebnissen abgeglichen werden.\n",
    "- beim **unüberwachten Lernen** (*unsupervised learning*) sind Output-Daten für die Instanzen nicht bekannt.\n"
   ]
  },
  {
   "cell_type": "markdown",
   "metadata": {},
   "source": [
    "## Überwachtes Lernen\n",
    "Beim überwachten Lernen wird die Sammlung von Daten, die für das Lernen zur Verfügung stehen als **Lerndaten** (*learning set*) bezeichnet.\n",
    "Für diese Lerndaten sind die Input-Daten und die dazugehörigen Output-Daten bekannt.\n",
    "Diese Lerndaten wird in zwei Teile zerlegt:\n",
    "- Mit der **Trainingsdaten** (*training set*) wird ein Modell und die dazugehörigen Parameter berechnet, welche die\n",
    "Beziehung zwischen den Input-Daten und den Output-Daten beschreibt.\n",
    "- Mit den **Testdaten** (*test set*) wird das Modell und die bestimmten Parameter überprüft. Es wird somit geprüft,\n",
    "ob das Modell, das aus den Trainingsdaten bestimmt wird, die Testdaten gut beschreiben.\n",
    "\n",
    "Die $N$ Instanzen werden aufgeteilt in $N_{train}$ Trainingsdaten und $N_{test}$ Testdaten\n",
    "\n",
    "FÜr die Überprüfung, ob das gewählte Modell eine gute Beschreibung der Beziehung zwischen Input-Daten und Output-Daten ist,\n",
    "wird die **Fehlerrate** (*rate of failure (error)*) beziehungsweise \n",
    "die **Erfolgsrate** (*rate of success (score)*) bestimmt. Dies wird sowohl bei den\n",
    "Trainingsdaten als auch bei den Testdaten durchgeführt. Damit werden\n",
    "- **Trainingsfehlerrate** (*training error*), **Trainingserfolgsrate** (*training score*) und\n",
    "- **Testsfehlerrate** (*test error*), **Testerfolgsrate** (*test score*)\n",
    "\n",
    "ermittelt. Wenn das Modell auf Daten angewendet werden, die nicht in den Lerndaten enthalten sind, \n",
    "dann werden ebenso Fehler und Erfolg gemessen. Dies wird dann **Generalisierungsfehler** (*gerneralization error*) \n",
    "beziehungsweise **Generalisierungerfolg** (*generalization score*) genannt.\n",
    "\n",
    "Nach Viviana Acquaviva [Acq23] ist das überwachte Lernen nur so gut, wie die Daten, die in den Lerndaten enthalten sind\n",
    "(*a supervised learning method is only as good as its learning set*):\n",
    "- gibt es zu wenig Daten, dann kann das Modell den Zusammenhang zwischen Input und Output nicht richtig erlernen,\n",
    "- ist die Auswahl der Daten in den Lerndaten nicht repräsentativ für alle Daten, dann lernt das Modell einen falschen Zusammenhang.\n",
    "\n",
    "Daher ist es wichtig, die Daten zu verstehen. Dazu wird das Fachwissen benötigt, um die Daten richtig zu interpretieren. \n",
    "Viviana Acquaviva schreibt dazu: \n",
    "\n",
    "*Because [machine learning techniques] are driven by the data as opposed to relying on physical intuition,\n",
    "we are bound to make a fool of ourselves if we don't understand the data well.*\n",
    "\n",
    "Das überwachte Lernen unstützt zwei wichtige Aufgaben:\n",
    "- **Klassifizierung**  (*classification*): Die Output-Daten gehören zu zwei und mehrern diskreten Möglichkeiten (Klassen). \n",
    "\n",
    "Beispiele dazu, die auch im weiteren Verlauf behandelt werden sind:\n",
    "1. Bei den Daten über die Iris-Blüten, soll anhand von vier Merkmalen erkannt werden, welche der drei möglichen Arten von Iris-Büten vorliegt.\n",
    "2. Bei dem MNIST-Mustererkennungsbeispiel werden Bilder, welche die Ziffern von 0 bis 9 darstellen, analysiert, um zu erkennen, welche Ziffer abgebildet ist. Somit gibt es zehn verschiedene *Output*-Daten.\n",
    "3. Bei Beispiel über bewohnbare Planten, welches in Acquaviva [Acq23, Kap 2] vorgestellt ist, gibt es zwei möglich Antorten \"bewohnbar\" oder \"nicht bewohnbar\" .\n",
    "\n",
    "- **Regression** (*regression*): Es werden reelle Parameter für ein Modell bestimmt. DIe Parameter werden ausgehend von den Daten besteimmt.\n",
    "Eine Formel, welche den Zusammenhang beschreibt ist nicht bekannt.\n",
    "\n",
    "Ein Beispiel ist hierfür, die Fallzeit eines Gegenstandes allein aus der Fallhöhe zu bestimmen, ohne dass das Newton'sche Fallgesetz bekannt ist."
   ]
  },
  {
   "cell_type": "markdown",
   "metadata": {},
   "source": [
    "## Unüberwachtes Lernen\n",
    "Beim unüberwachten Lernen sind keine Output-Daten für die Datensätze bekannt. \n",
    "\n",
    "Beim **Clustern** (*clustering*) soll anhand der Daten Ähnlichkeiten und Zusammenhänge erkannt werden, so dass die Daten gruppiert werden können.\n",
    "Beispiele hierfür die die Erkennung von Hunden oder Katzen, oder die Bestimmung des Typs von Galaxien auf Bildern.\n",
    "\n",
    "Eine weitere Aufgabe kann es sein, die Problemgröße zu reduzieren, also die Daten zu vereinfachen. \n",
    "Dies ist unter dem Stichwort **Dimensionsreduktion** (*dimensionality reduction*, DR) bekannt.\n",
    "Hierzu ist zu überprüfen, welche Daten wichtig sind, welche nicht wichtig sind."
   ]
  },
  {
   "cell_type": "markdown",
   "metadata": {},
   "source": [
    "## Literatur\n",
    "- [Acq23] Viviana Acquaviva; Machine Learning for Physics and Astronomy; Princeton University Press; 2023\n",
    "- [Van24] Jake VanderPlas; Handbuch Data Science mit Python; O'Reilly; 2024; (Übersetzung der 2. Auflage von *Python Data Science Handbook*)"
   ]
  },
  {
   "cell_type": "markdown",
   "metadata": {},
   "source": []
  }
 ],
 "metadata": {
  "kernelspec": {
   "display_name": "Python 3",
   "language": "python",
   "name": "python3"
  },
  "language_info": {
   "codemirror_mode": {
    "name": "ipython",
    "version": 3
   },
   "file_extension": ".py",
   "mimetype": "text/x-python",
   "name": "python",
   "nbconvert_exporter": "python",
   "pygments_lexer": "ipython3",
   "version": "3.11.1"
  }
 },
 "nbformat": 4,
 "nbformat_minor": 2
}
