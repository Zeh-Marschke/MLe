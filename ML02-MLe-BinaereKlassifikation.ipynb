{
 "cells": [
  {
   "cell_type": "markdown",
   "metadata": {},
   "source": [
    "# Maschinelles Lernen - Binäre Klassifikation\n",
    "\n",
    "In diesem JN werden Fragestellungen der binären Klassifikation behandelt.\n",
    "Eine binärer Klassifikation ist eine oftmals wiederkehrende Aufgabe:\n",
    "- Ist in einem Bild ein Hund zu sehen oder nicht.\n",
    "- Ist eine Person kreditwürdig oder nicht.\n",
    "- Trennung bei physikalischen Experimenten zwischen Signal (*signal*) und Hintergrund (*background*)\n",
    "- Ist ein Exoplant potenziell bewohnbar (*habitable*) oder nicht.\n",
    "\n",
    "Die letzte Fragestellung wird hier etwas untersucht, so wie es auch bei Vivianana Acquaviva [Acq23] durchgeführt wird.\n",
    "Dazu werden zuerst die Daten, die für die Untersuchung herangezogen werden betrachtet, um mit den Dtaen vertrauter zu werden.\n",
    "Anschließend werden zwei ALgorithmen des ML vorgestellt: **Entscheidungsbaum** (*Decision Tree*, DT) und \n",
    "**k_Nächste-Nachbarn** (*k-Nearest Neighbour*, kNN) mit denen die Modelle trainiert werden.\n",
    "Dann wird untersucht, wie wir das erzielte Ergebnis bewerten können, um damit zu untersuchen, welcher Algorithmus besser ist.\n",
    "Da die Traingsdaten nur einen kleinen Umfang haben, wird das Verfahren **Cross Validation** vorgestellt, so dass \n",
    "die gesamte Lernmenge als Trainings- und Testdaten zur Verfügung steht.\n",
    "Dabei werden die Modelle auf den gesamten Datenumfang, also nicht nur auf die Lernmenge angewendet.\n",
    "Zum Abschluss werden die Ergebnisse ausgewertet und untersucht, welche Möglichkeiten zur Verbesserung es gibt.\n",
    "\n",
    "Abschließend wird noch ein Ausblick auf die Multi Klassifizierung durchgeführt, denn für manche Fragestellung gibt es nicht eine binäre Entscheidung,\n",
    "sondenr mehr als zwei Möglichkeiten:\n",
    "- Irisblüten: Selektion zwischen drei Arten\n",
    "- Erkenn von handschriftlichen Ziffern - Selektion zwischen zehn Ergebnissen."
   ]
  },
  {
   "cell_type": "markdown",
   "metadata": {},
   "source": [
    "## Problemstellung und Daten\n",
    "\n",
    "Daten sind die Basis für die Arbeit im Data Science. Viviana Acquavia schreibt dazu (siehe [Acq23], Abschnitt 2.1) als von ihr aufgestellte *goldene Regel*: \"know your data\"!\n",
    "Daher ist es wichtig, die Daten zu betrachten. Dabei sollen mindestens die nachfolgenden Dinge unternommen werden:\n",
    "- Den Umfang der Daten prüfen, die Anzahl der Instanzen und die Anzahl der Eigenschaften. Gibt es ausreichend viele Datensätze für die Bearbeitung?\n",
    "- Überprüfen, ob die Daten vollständig sind oder ob es in den Datensätzen fehlende Daten gibt. Wie wird mit mit fehlenden Daten umgegangen?\n",
    "- Müssen die Daten eventuell normalisiert werden? Gibt es merkwürdige Verteilung der Daten? Wie wird mit Ausreißern (*outlier*) der Daten umgegangen?\n",
    "- Sind bei einem Klassifizierungsproblem in allen Klassen ausreichend viele Daten vorhanden? \n",
    "\n",
    "Daher ist es nicht ratsam, die Algorithmene einfach nur anzuwenden, ohne dass die Daten verstanden werden. \n",
    "Die Ergebnisse der Analyse müssen geprüft und interpretiert werden. \n",
    "Es ist zu prüfen, ob das Ergebnis mit der Intuition übereinstimmt. Wenn nicht, dann ist zu klären, woher die Diskrepanz herrührt."
   ]
  },
  {
   "cell_type": "markdown",
   "metadata": {},
   "source": [
    "### Habitable Planeten\n",
    "\n",
    "Vivana Acuavia wählt als ersten Beispiel einen Datensatz von 18 Exoplanten, bei denen verschiedene Merkmale bekannt sind \n",
    "und die Farge besteht, ob sie bewohnbar (*habitable*) sind. \n",
    "Die Daten hat sie von der Quelle http://phl.upr.edu/projects/habitable-exoplanets-catalog, in der inzwischen einige Tausende Exoplaneten aufgeführt sind. \n",
    "Sie hat 18 Planten aus dieser Liste ausgewählt. Diese Beispiele werden auch im nachfolgenden betrachtet und untersucht. \n",
    "Dabei werden verschiedene \n",
    "Modelle angewendet und dabei verschiedene Sachverhalte erläutert und beispielhaft demonstriert.\n",
    "\n",
    "Die Beispieldaten beinhalten die folgenden Merkmale (*features*) und Ziele (*targets*):\n",
    "- Name des Exoplanten: Dies ist nur für die Identifikation notwendig.\n",
    "- Masse des Sterns (*stellar mass*), um den der Exoplant kreist, ausgedrückt in Sonnenmassen.\n",
    "- Umlaufdauer (*orbital period*) des Exoplanten um den Stern in Tagen. \n",
    "- Distanz (distance) des Exoplanten von Stern in Astronomischen Einheiten (AU).\n",
    "- Bewohnbar (*habitable*)? Eine Einschätzung, ob der Plant bewohnbar ist (1 = bewohnbar, 0 = nicht bewohnbar).\n",
    "\n",
    "Hinweis: In der Quelle der Daten ist die Eigenschaft bewohnbar noch weiter differenziert. Darauf wird hier nicht genauer eingegangen. \n",
    "Wenn mit dem großen Datensatz aus der Quelle gearbeitet wird, dann ist zu klären, wie damit umgegangen wird. \n",
    "Daher ist es wichtig, die Daten zu kennen und vor den Auswertung zu betrachten."
   ]
  },
  {
   "cell_type": "code",
   "execution_count": 1,
   "metadata": {},
   "outputs": [
    {
     "name": "stdout",
     "output_type": "stream",
     "text": [
      "==============================================================\n",
      "  nr  name                   mass    period    dist.    hab.?\n",
      "                            (sun)     (day)     (AU)    (0=No)\n",
      "==============================================================\n",
      "   0  Kepler-736 b           0.86      3.60   0.0437      0\n",
      "   1  Kepler-636 b           0.85     16.08   0.1180      0\n",
      "   2  Kepler-887 c           1.19      7.64   0.0804      0\n",
      "   3  Kepler-442 b           0.61    112.30   0.4063      1\n",
      "   4  Kepler-772 b           0.98     12.99   0.1074      0\n",
      "   5  Teegarden's Star b     0.09      4.91   0.0252      1\n",
      "   6  Ks-116 b               0.69      4.66   0.0481      0\n",
      "   7  GJ 1061 c              0.12      6.69   0.0350      1\n",
      "   8  HD 68402 b             1.12   1103.00   2.1810      0\n",
      "   9  Kepler-1544 b          0.81    168.81   0.5571      1\n",
      "  10  Kepler-296 e           0.50     34.14   0.1782      1\n",
      "  11  Kepler-705 b           0.53     56.06   0.2319      1\n",
      "  12  Kepler 445 c           0.18      4.87   0.0317      0\n",
      "  13  HD 104067 b            0.62     55.81   0.2600      0\n",
      "  14  GJ 4276 b              0.41     13.35   0.0875      0\n",
      "  15  Kepler 296 f           0.50     63.34   0.2689      1\n",
      "  16  Kepler-63 b            0.98      9.43   0.0881      0\n",
      "  17  GJ 3293 d              0.42     48.13   0.1953      1\n",
      "==============================================================\n"
     ]
    }
   ],
   "source": [
    "# --- read the data\n",
    "import pandas as pd\n",
    "filename = 'HabitablePlanets_Examples18.csv'\n",
    "data_planets = pd.read_csv (filename, sep=';')\n",
    "\n",
    "# --- print the data of one exoplant\n",
    "def print_planet (nr, planet):\n",
    "    print (f\"{nr:4d}  {planet [0]:20s} {planet [1]:6.2f}  {planet [2]:8.2f} {planet [3]:8.4f} {planet [4]:6d}\")\n",
    "\n",
    "# --- print a table with the complete lerarning set\n",
    "def print_planets (plantes):\n",
    "    print (\"==============================================================\")\n",
    "    print (\"  nr  name                   mass    period    dist.    hab.?\")\n",
    "    print (\"                            (sun)     (day)     (AU)    (0=No)\")\n",
    "    print (\"==============================================================\")\n",
    "    nr = 0\n",
    "    for planet in plantes:\n",
    "        print_planet (nr, planet)\n",
    "        nr = nr + 1\n",
    "    print (\"==============================================================\")\n",
    " \n",
    "print_planets (data_planets.values)"
   ]
  },
  {
   "cell_type": "markdown",
   "metadata": {},
   "source": [
    "Bei der Betrachtung der Daten fällt auf, dass der Plant mit der Nummer 8 (HD 68402 b) ein Ausreißer ist.\n",
    "Die Periodendauer und der Abstand zur Sonne ist deutlicher größer als bei den anderen Planent.\n",
    "In Anbetracht der Kepler'schen Planentengesetz ist das jedoch nicht unwahrscheinlich.\n",
    "\n",
    "Es gibt bei den Beispielen acht bewohnbare Planeten und zehn unbewohnbare Planten. \n",
    "Damit ist der Datensatz bezüglich der Eigenschaft bewohnbar?\" ausgeglichen.\n",
    "Im großen Datensatz ist der Anteil der bewohnbaren Planten deutlich geringer.\n",
    "\n",
    "Eine wichtige Eigenschaft für die Frage, ob ein Planet bewohnbar ist oder nicht, ist die Temperatur auf der Oberfläche.\n",
    "Diese Eigenschaft ist nicht im Datensatz direkt enthalten. \n",
    "Über die Eigenschaften Sternenmasse und Distanz ist die Temperatur jedoch indirekt berücksichtigt, \n",
    "denn Sternenmasse und Distanz sind wichtige Parameter, welche die Temperatur stark beeinflussen."
   ]
  },
  {
   "cell_type": "markdown",
   "metadata": {},
   "source": [
    "### Aufspaltung in Traings- und Testdaten\n",
    "\n",
    "Gemäß den Ausführungen bei Viviana Acquaviva werden die ersten 13 Planenten (also die Nummern 0 bis 12) als Trainingsdaten (*training set*) \n",
    "und die letzten fünf Planeten (Nummern 13 bis 17) als Testdaten (*test set*) verwendet. "
   ]
  },
  {
   "cell_type": "markdown",
   "metadata": {},
   "source": [
    "## Algorithmus: Entscheidungsbaum (*Decision Tree*, DT)"
   ]
  },
  {
   "cell_type": "markdown",
   "metadata": {},
   "source": [
    "## Algorithmus: k-Nächste Nachbarn (*k-Nearest Neighbour*, kNN)"
   ]
  },
  {
   "cell_type": "markdown",
   "metadata": {},
   "source": [
    "## Binäre Klassifikation - Bewertung"
   ]
  },
  {
   "cell_type": "markdown",
   "metadata": {},
   "source": [
    "## Zwischenschritt: Bei wenigen Daten Cross Validation (CV)"
   ]
  },
  {
   "cell_type": "markdown",
   "metadata": {},
   "source": [
    "## Auswertung der Ergebnisse"
   ]
  },
  {
   "cell_type": "markdown",
   "metadata": {},
   "source": [
    "## Was kann verbessert werden"
   ]
  },
  {
   "cell_type": "markdown",
   "metadata": {},
   "source": [
    "## Ausblick: Multi Klassifikation"
   ]
  },
  {
   "cell_type": "markdown",
   "metadata": {},
   "source": [
    "## Literatur\n",
    "\n",
    "- [Acq23] Viviana Acquaviva; Machine Learning for Physisics and Astronomy; Princeton University Press; 2023\n"
   ]
  },
  {
   "cell_type": "markdown",
   "metadata": {},
   "source": []
  }
 ],
 "metadata": {
  "kernelspec": {
   "display_name": "Python 3",
   "language": "python",
   "name": "python3"
  },
  "language_info": {
   "codemirror_mode": {
    "name": "ipython",
    "version": 3
   },
   "file_extension": ".py",
   "mimetype": "text/x-python",
   "name": "python",
   "nbconvert_exporter": "python",
   "pygments_lexer": "ipython3",
   "version": "3.11.1"
  }
 },
 "nbformat": 4,
 "nbformat_minor": 2
}
